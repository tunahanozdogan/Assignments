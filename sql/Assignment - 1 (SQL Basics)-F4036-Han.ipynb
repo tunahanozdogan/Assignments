{
 "cells": [
  {
   "cell_type": "markdown",
   "id": "d87a1c63",
   "metadata": {},
   "source": [
    "Bu veritabanında product ve sale şemaları altında çeşitli tablolar oluşturulmuş. product şeması altında, category, brand ve product tabloları oluşturulmuş. sale şeması altında ise customer, store, staff, orders ve order_item tabloları oluşturulmuş. Bu tablolardaki kolonlar arasında birçok özel anahtar ve dış anahtar ilişkisi oluşturulmuş."
   ]
  },
  {
   "cell_type": "markdown",
   "id": "df22e5a7",
   "metadata": {},
   "source": [
    "1. How many customers are in each city? Your solution should include the city name and the number of customers sorted from highest to lowest."
   ]
  },
  {
   "cell_type": "code",
   "execution_count": null,
   "id": "23dcd3a5",
   "metadata": {},
   "outputs": [],
   "source": [
    "\n",
    "\n",
    "SELECT city, COUNT(*) as num_customers\n",
    "FROM sale.customer\n",
    "GROUP BY city\n",
    "ORDER BY num_customers DESC;\n"
   ]
  },
  {
   "cell_type": "markdown",
   "id": "de5a30ff",
   "metadata": {},
   "source": [
    "\n",
    "\n",
    "\n",
    "Bu sorgu, sale.customer tablosundaki city kolonunu gruplar ve her bir şehir için müşteri sayısını sayar. Sonuçlar num_customers adında bir alias ile döndürülür ve num_customers değerine göre sıralanır. Bu sorgu, istenilen şehir adlarını ve bu şehirlerdeki müşteri sayılarını en yüksekten en düşüğe doğru sıralı olarak gösterir.\n",
    "\n",
    "\n",
    "\n",
    "\n"
   ]
  },
  {
   "cell_type": "markdown",
   "id": "ff3dae08",
   "metadata": {},
   "source": [
    "2. Find the total product quantity of the orders. Your solution should include order ids and quantity of products."
   ]
  },
  {
   "cell_type": "code",
   "execution_count": null,
   "id": "d322b0c3",
   "metadata": {},
   "outputs": [],
   "source": [
    "SELECT order_id, SUM(quantity) as total_quantity\n",
    "FROM sale.order_item\n",
    "GROUP BY order_id;\n"
   ]
  },
  {
   "cell_type": "markdown",
   "id": "71663f79",
   "metadata": {},
   "source": [
    "Bu sorgu, sale.order_item tablosundaki order_id kolonunu gruplar ve her bir sipariş için ürün miktarını toplar. Sonuçlar total_quantity adında bir alias ile döndürülür ve siparişlerin order_id değerlerine göre sıralanmaz. Bu sorgu, istenilen sipariş numaralarını ve bu siparişlerdeki toplam ürün miktarını gösterir."
   ]
  },
  {
   "cell_type": "markdown",
   "id": "aaa14372",
   "metadata": {},
   "source": [
    "3. Find the cheapest product id for each order id. Your solution should include order id, product id and list price sorted from highest to lowest."
   ]
  },
  {
   "cell_type": "code",
   "execution_count": null,
   "id": "2a39359f",
   "metadata": {},
   "outputs": [],
   "source": [
    "SELECT order_id, product_id, MIN(list_price) as cheapest_price\n",
    "FROM sale.order_item\n",
    "GROUP BY order_id, product_id\n",
    "ORDER BY cheapest_price DESC;\n"
   ]
  },
  {
   "cell_type": "markdown",
   "id": "65130056",
   "metadata": {},
   "source": [
    "Bu sorgu, sale.order_item tablosundaki order_id ve product_id kolonlarını gruplar ve her bir sipariş için en ucuz ürünün product_id değerini ve bu ürünün liste fiyatını seçer. Sonuçlar cheapest_price adında bir alias ile döndürülür ve cheapest_price değerine göre sıralanır. Bu sorgu, istenilen sipariş numaralarını, en ucuz ürünün product_id değerlerini ve bu ürünlerin liste fiyatlarını en yüksekten en düşüğe doğru sıralı olarak gösterir."
   ]
  },
  {
   "cell_type": "markdown",
   "id": "56cee011",
   "metadata": {},
   "source": [
    "4. Find the total amount of each order. Your solution should include order id and total amount sorted from highest to lowest."
   ]
  },
  {
   "cell_type": "code",
   "execution_count": null,
   "id": "c5e9ff13",
   "metadata": {},
   "outputs": [],
   "source": [
    "SELECT order_id, SUM(list_price * quantity - discount) as total_amount\n",
    "FROM sale.order_item\n",
    "GROUP BY order_id\n",
    "ORDER BY total_amount DESC;\n"
   ]
  },
  {
   "cell_type": "markdown",
   "id": "4de15cc6",
   "metadata": {},
   "source": [
    "Bu sorgu, sale.order_item tablosundaki order_id kolonunu gruplar ve her bir sipariş için ürünlerin toplam miktarını hesaplar. Bu miktar, ürünlerin liste fiyatının ürün miktarı ile çarpımından indirimlerin miktarı çıkarılarak hesaplanır. Sonuçlar total_amount adında bir alias ile döndürülür ve total_amount değerine göre sıralanır. Bu sorgu, istenilen sipariş numaralarını ve bu siparişlerin toplam miktarlarını en yüksekten en düşüğe doğru sıralı olarak gösterir."
   ]
  },
  {
   "cell_type": "markdown",
   "id": "8d865553",
   "metadata": {},
   "source": [
    "5. Find the order id that has the maximum average product price. Your solution should include only one row with the order id and average product price"
   ]
  },
  {
   "cell_type": "code",
   "execution_count": null,
   "id": "8a3a008f",
   "metadata": {},
   "outputs": [],
   "source": [
    "SELECT order_id, AVG(list_price) as avg_price\n",
    "FROM sale.order_item\n",
    "GROUP BY order_id\n",
    "HAVING AVG(list_price) = (SELECT MAX(avg_price) FROM\n",
    "    (SELECT order_id, AVG(list_price) as avg_price\n",
    "     FROM sale.order_item\n",
    "     GROUP BY order_id) subquery);\n"
   ]
  },
  {
   "cell_type": "markdown",
   "id": "5666e420",
   "metadata": {},
   "source": [
    "Bu sorgu, önce sale.order_item tablosundaki order_id kolonunu gruplar ve her bir sipariş için ortalama ürün fiyatını hesaplar. Daha sonra, bu ortalama fiyatların maksimum değerini seçen bir alt sorgu kullanılarak, ortalama ürün fiyatı maksimum olan siparişin order_id değerini ve bu siparişin ortalama ürün fiyatını seçer. Bu sorgu, istenilen sipariş numarasını ve bu siparişin ortalama ürün fiyatını içeren tek bir satır döndürür.\n",
    "\n",
    "Eğer ortalama ürün fiyatları aynı olan birden fazla sipariş varsa, bu sorgu bunların hepsini döndürebilir. Eğer sadece bir tanesini döndürmek"
   ]
  },
  {
   "cell_type": "markdown",
   "id": "e9364441",
   "metadata": {},
   "source": [
    "6. Write a query that displays brand_id, product_id and list_price sorted first by brand_id (in ascending order), and then by list_price  (in descending order)."
   ]
  },
  {
   "cell_type": "code",
   "execution_count": null,
   "id": "8dce691a",
   "metadata": {},
   "outputs": [],
   "source": [
    "SELECT brand_id, product_id, list_price\n",
    "FROM product.product\n",
    "ORDER BY brand_id ASC, list_price DESC;\n"
   ]
  },
  {
   "cell_type": "markdown",
   "id": "1072c890",
   "metadata": {},
   "source": [
    "Bu sorgu, product.product tablosundaki brand_id, product_id ve list_price kolonlarını seçer ve brand_id değerine göre artan sırada ve list_price değerine göre azalan sırada sıralar. Bu sorgu, istenilen marka numaralarını, ürün numaralarını ve ürünlerin liste fiyatlarını sıralı olarak gösterir."
   ]
  },
  {
   "cell_type": "markdown",
   "id": "94301204",
   "metadata": {},
   "source": [
    "7. Write a query that displays brand_id, product_id and list_price, but this time sorted first by list_price (in descending order), and then by brand_id (in ascending order)."
   ]
  },
  {
   "cell_type": "code",
   "execution_count": null,
   "id": "2bb18628",
   "metadata": {},
   "outputs": [],
   "source": [
    "SELECT brand_id, product_id, list_price\n",
    "FROM product.product\n",
    "ORDER BY list_price DESC, brand_id ASC;\n"
   ]
  },
  {
   "cell_type": "markdown",
   "id": "7cd06a31",
   "metadata": {},
   "source": [
    "Bu sorgu, product.product tablosundaki brand_id, product_id ve list_price kolonlarını seçer ve list_price değerine göre azalan sırada ve brand_id değerine göre artan sırada sıralar. Bu sorgu, istenilen marka numaralarını, ürün numaralarını ve ürünlerin liste fiyatlarını sıralı olarak gösterir."
   ]
  },
  {
   "cell_type": "markdown",
   "id": "1cb2b261",
   "metadata": {},
   "source": [
    "8. Compare the results of these two queries above. How are the results different when you switch the column you sort on first? (Explain it in your own words.)"
   ]
  },
  {
   "cell_type": "markdown",
   "id": "3b9a503f",
   "metadata": {},
   "source": [
    "Önce brand_id değerine göre sıralayan sorgu ile önce list_price değerine göre sıralayan sorgunun sonuçları arasında, sıralama önceliği değiştirildiğinden dolayı farklılıklar olacaktır. Önce brand_id değerine göre sıralayan sorguda, önce brand_id değerine göre sıralama yapılır ve daha sonra list_price değerine göre sıralama yapılır. Bu nedenle, brand_id değerlerine göre sıralama yapılır ve eğer brand_id değerleri aynı ise list_price değerlerine göre sıralama yapılır. Önce list_price değerine göre sıralayan sorguda ise, önce list_price değerine göre sıralama yapılır ve daha sonra brand_id değerine göre sıralama yapılır. Bu nedenle, list_price değerlerine göre sıralama yapılır ve eğer list_price değerleri aynı ise brand_id değerlerine göre sıralama yapılır. Bu iki sorgunun sonuçları arasındaki farklılık, sıralama önceliği değiştirildiğinden dolayı ortaya çıkmaktadır.\n",
    "\n",
    "\n",
    "\n",
    "\n"
   ]
  },
  {
   "cell_type": "markdown",
   "id": "2c3cc173",
   "metadata": {},
   "source": [
    "9. Write a query to pull the first 10 rows and all columns from the product table that have a list_price greater than or equal to 3000."
   ]
  },
  {
   "cell_type": "code",
   "execution_count": null,
   "id": "0c17bb3c",
   "metadata": {},
   "outputs": [],
   "source": [
    "SELECT *\n",
    "FROM product.product\n",
    "WHERE list_price >= 3000\n",
    "LIMIT 10;\n"
   ]
  },
  {
   "cell_type": "markdown",
   "id": "dd9fbd44",
   "metadata": {},
   "source": [
    "Bu sorgu, product.product tablosundaki tüm kolonları seçer ve list_price değeri 3000 veya daha yüksek olan satırları seçer. Daha sonra, LIMIT komutu ile ilk 10 satır seçilir ve sonuçlar döndürülür. Bu sorgu, istenilen ürünlerin tüm bilgilerini içeren ilk 10 satırı gösterir."
   ]
  },
  {
   "cell_type": "markdown",
   "id": "f83a3075",
   "metadata": {},
   "source": [
    "10. Write a query to pull the first 5 rows and all columns from the product table that have a list_price less than 3000."
   ]
  },
  {
   "cell_type": "code",
   "execution_count": null,
   "id": "a1ad126c",
   "metadata": {},
   "outputs": [],
   "source": [
    "SELECT *\n",
    "FROM product.product\n",
    "WHERE list_price < 3000\n",
    "LIMIT 5;\n"
   ]
  },
  {
   "cell_type": "markdown",
   "id": "b47a91a3",
   "metadata": {},
   "source": [
    "Bu sorgu, product.product tablosundaki tüm kolonları seçer ve list_price değeri 3000'den düşük olan satırları seçer. Daha sonra, LIMIT komutu ile ilk 5 satır seçilir ve sonuçlar döndürülür. Bu sorgu, istenilen ürünlerin tüm bilgilerini içeren ilk 5 satırı gösterir."
   ]
  },
  {
   "cell_type": "markdown",
   "id": "a04abfe1",
   "metadata": {},
   "source": [
    "11. Find all customer last names that start with 'B' and end with 's'."
   ]
  },
  {
   "cell_type": "code",
   "execution_count": null,
   "id": "5a2f5e00",
   "metadata": {},
   "outputs": [],
   "source": [
    "SELECT last_name\n",
    "FROM sale.customer\n",
    "WHERE last_name LIKE 'B%s';\n"
   ]
  },
  {
   "cell_type": "markdown",
   "id": "0e633db8",
   "metadata": {},
   "source": [
    "Bu sorgu, sale.customer tablosundaki last_name kolonunu seçer ve last_name değerinin 'B' ile başladığı ve 's' ile bittiği satırları seçer. LIKE operatörü, veri tabanında benzer değerleri aramaya yarar. Bu sorgu, 'B' ile başlayıp 's' ile biten müşteri soyadlarını gösterir."
   ]
  },
  {
   "cell_type": "markdown",
   "id": "7eeca893",
   "metadata": {},
   "source": [
    "12. Use the customer table to find all information regarding customers whose address is Allen or Buffalo or Boston or Berkeley."
   ]
  },
  {
   "cell_type": "code",
   "execution_count": null,
   "id": "5e904974",
   "metadata": {},
   "outputs": [],
   "source": [
    "SELECT *\n",
    "FROM sale.customer\n",
    "WHERE city IN ('Allen', 'Buffalo', 'Boston', 'Berkeley');\n"
   ]
  },
  {
   "cell_type": "markdown",
   "id": "3c741051",
   "metadata": {},
   "source": [
    "Bu sorgu, sale.customer tablosundaki tüm kolonları seçer ve müşteri şehirlerinin Allen, Buffalo, Boston veya Berkeley olduğu satırları seçer. IN operatörü, veri tabanındaki belirtilen değerlerden birine eşit olan değerleri aramaya yarar. Bu sorgu, istenilen müşterilerin tüm bilgilerini gösterir."
   ]
  }
 ],
 "metadata": {
  "kernelspec": {
   "display_name": "Python 3 (ipykernel)",
   "language": "python",
   "name": "python3"
  },
  "language_info": {
   "codemirror_mode": {
    "name": "ipython",
    "version": 3
   },
   "file_extension": ".py",
   "mimetype": "text/x-python",
   "name": "python",
   "nbconvert_exporter": "python",
   "pygments_lexer": "ipython3",
   "version": "3.9.13"
  }
 },
 "nbformat": 4,
 "nbformat_minor": 5
}
