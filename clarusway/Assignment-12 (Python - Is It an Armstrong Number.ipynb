{
 "cells": [
  {
   "cell_type": "code",
   "execution_count": null,
   "id": "3504712d",
   "metadata": {},
   "outputs": [],
   "source": [
    "num = (input(\"Enter a number: \")).strip()\n",
    "\n",
    "\n",
    "sum = 0\n",
    "if int(num) > 0:\n",
    "    temp = int(num)\n",
    "    while temp > 0:\n",
    "           digit = temp % 10\n",
    "           sum += digit ** 3\n",
    "           temp //= 10\n",
    "\n",
    "\n",
    "    if num == sum:\n",
    "           print(num,\"is an Armstrong number\")\n",
    "    else:\n",
    "           print(num,\"is not an Armstrong number\")\n",
    "else:\n",
    "    print(\"Enter a number, please\") \n"
   ]
  },
  {
   "cell_type": "code",
   "execution_count": null,
   "id": "23522195",
   "metadata": {},
   "outputs": [],
   "source": []
  },
  {
   "cell_type": "code",
   "execution_count": null,
   "id": "b027c528",
   "metadata": {},
   "outputs": [],
   "source": []
  }
 ],
 "metadata": {
  "kernelspec": {
   "display_name": "Python 3 (ipykernel)",
   "language": "python",
   "name": "python3"
  },
  "language_info": {
   "codemirror_mode": {
    "name": "ipython",
    "version": 3
   },
   "file_extension": ".py",
   "mimetype": "text/x-python",
   "name": "python",
   "nbconvert_exporter": "python",
   "pygments_lexer": "ipython3",
   "version": "3.9.12"
  }
 },
 "nbformat": 4,
 "nbformat_minor": 5
}
