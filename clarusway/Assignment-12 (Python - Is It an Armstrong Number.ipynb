print("Armstrong number finder")

number = input("enter your number: ")
sum = 0

i = 0
if number.isnumeric() == 1:
  while i <= len(number)-1:
    num = int(number[i])**len(number)
    sum += num
    i += 1
  
  if sum == int(number):
      print(f"{number} is an Armstrong number.")
  else:
      print(f"{number} is not an Armstorng number. Try again.")

else:
  print(f"{number} is an invalid entry. Don't use non-numeric, float, or negative values!")
