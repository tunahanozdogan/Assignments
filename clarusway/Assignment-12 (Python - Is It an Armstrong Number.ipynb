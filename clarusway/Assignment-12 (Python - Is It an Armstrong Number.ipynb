{
 "cells": [
  {
   "cell_type": "code",
   "execution_count": null,
   "id": "56a7fc52",
   "metadata": {},
   "outputs": [],
   "source": [
    "print(\"Armstrong number finder\")\n",
    "\n",
    "number = input(\"enter your number: \")\n",
    "sum = 0\n",
    "\n",
    "i = 0\n",
    "if number.isnumeric() == 1:\n",
    "  while i <= len(number)-1:\n",
    "    num = int(number[i])**len(number)\n",
    "    sum += num\n",
    "    i += 1\n",
    "  \n",
    "  if sum == int(number):\n",
    "      print(f\"{number} is an Armstrong number.\")\n",
    "  else:\n",
    "      print(f\"{number} is not an Armstorng number. Try again.\")\n",
    "\n",
    "else:\n",
    "  print(f\"{number} is an invalid entry. Don't use non-numeric, float, or negative values!\")\n"
   ]
  },
  {
   "cell_type": "code",
   "execution_count": null,
   "id": "b64b3144",
   "metadata": {},
   "outputs": [],
   "source": []
  },
  {
   "cell_type": "code",
   "execution_count": null,
   "id": "91ee7160",
   "metadata": {},
   "outputs": [],
   "source": []
  }
 ],
 "metadata": {
  "kernelspec": {
   "display_name": "Python 3 (ipykernel)",
   "language": "python",
   "name": "python3"
  },
  "language_info": {
   "codemirror_mode": {
    "name": "ipython",
    "version": 3
   },
   "file_extension": ".py",
   "mimetype": "text/x-python",
   "name": "python",
   "nbconvert_exporter": "python",
   "pygments_lexer": "ipython3",
   "version": "3.9.12"
  }
 },
 "nbformat": 4,
 "nbformat_minor": 5
}
