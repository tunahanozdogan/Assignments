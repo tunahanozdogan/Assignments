{
 "cells": [
  {
   "cell_type": "code",
   "execution_count": null,
   "id": "fb1610a4",
   "metadata": {},
   "outputs": [],
   "source": [
    "#Assignment-14\n",
    "\n",
    "\n",
    "answer1:\n",
    "a = 1  \n",
    "\n",
    "b = 0 \n",
    "\n",
    "#k=1\n",
    "\n",
    "for i in range(10):  \n",
    "\n",
    " c = b \n",
    "\n",
    " b = a  \n",
    "\n",
    " a = c + b\n",
    "\n",
    " #k=k+i  \n",
    "\n",
    " print(a)\n",
    "\n",
    " if a==55:\n",
    "\n",
    "    #print(\"bu kadar\")\n",
    "\n",
    "    break\n",
    "\n",
    "    \n",
    "\n",
    "\n",
    "\n"
   ]
  },
  {
   "cell_type": "code",
   "execution_count": null,
   "id": "2fe48591",
   "metadata": {},
   "outputs": [],
   "source": [
    "answer 2:\n",
    "\n",
    "k=0\n",
    "\n",
    "mylist=list(range (k))\n",
    "\n",
    "new_list=[]\n",
    "\n",
    "\n",
    "\n",
    "for i in mylist:\n",
    "\n",
    "    k=k+1\n",
    "\n",
    "    new_list.append(i + new_list[k])\n",
    "\n",
    "    if max(new_list) ==55:\n",
    "\n",
    "        \n",
    "\n",
    "        print(new_list)\n",
    "\n",
    "    break"
   ]
  }
 ],
 "metadata": {
  "kernelspec": {
   "display_name": "Python 3 (ipykernel)",
   "language": "python",
   "name": "python3"
  },
  "language_info": {
   "codemirror_mode": {
    "name": "ipython",
    "version": 3
   },
   "file_extension": ".py",
   "mimetype": "text/x-python",
   "name": "python",
   "nbconvert_exporter": "python",
   "pygments_lexer": "ipython3",
   "version": "3.9.12"
  }
 },
 "nbformat": 4,
 "nbformat_minor": 5
}
