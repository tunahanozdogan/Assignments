{
 "cells": [
  {
   "cell_type": "code",
   "execution_count": null,
   "id": "d99d9c77",
   "metadata": {},
   "outputs": [],
   "source": [
    "#Assignment-17 (Python - Letters Count)\n",
    "metin=input(\"Lütfen bir metin giriniz: \")\n",
    "harf=[]\n",
    "sayi=[]\n",
    "\n",
    "for i in(metin):\n",
    "    if not (i in harf):\n",
    "        harf.append(i)\n",
    "        sayi.append(1)\n",
    "    else:\n",
    "        sayi[harf.index(i)]=sayi[harf.index(i)]+1\n",
    "\n",
    "for j in range(len(harf)):\n",
    "   # print(harf[j], \":\" ,sayi[j],end=\" ,\")\n",
    "    result=dict(zip(harf,sayi))    \n",
    "print(result)\n"
   ]
  }
 ],
 "metadata": {
  "kernelspec": {
   "display_name": "Python 3 (ipykernel)",
   "language": "python",
   "name": "python3"
  },
  "language_info": {
   "codemirror_mode": {
    "name": "ipython",
    "version": 3
   },
   "file_extension": ".py",
   "mimetype": "text/x-python",
   "name": "python",
   "nbconvert_exporter": "python",
   "pygments_lexer": "ipython3",
   "version": "3.9.12"
  }
 },
 "nbformat": 4,
 "nbformat_minor": 5
}
