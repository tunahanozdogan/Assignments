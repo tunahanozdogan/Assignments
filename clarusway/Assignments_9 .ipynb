{
 "cells": [
  {
   "cell_type": "code",
   "execution_count": null,
   "id": "aa8e79bc",
   "metadata": {},
   "outputs": [],
   "source": [
    "# Assignments_9 "
   ]
  },
  {
   "cell_type": "code",
   "execution_count": 5,
   "id": "08a65a20",
   "metadata": {},
   "outputs": [
    {
     "name": "stdout",
     "output_type": "stream",
     "text": [
      "Enter your name please : Joseph\n",
      " Hello, Joseph! The password is :asdf1234\n"
     ]
    }
   ],
   "source": [
    "password={\"Joseph\" :\"asdf1234\"}\n",
    "name=input(\"Enter your name please : \")\n",
    "if name == \"Joseph\":\n",
    "    print(' Hello, Joseph! The password is :{1[Joseph]}'.format(password,password) )\n",
    "else:\n",
    "    print(f\"Hello, {name}! See you later.\")"
   ]
  },
  {
   "cell_type": "code",
   "execution_count": null,
   "id": "4fca4195",
   "metadata": {},
   "outputs": [],
   "source": [
    "#tunahanozdogan"
   ]
  }
 ],
 "metadata": {
  "kernelspec": {
   "display_name": "Python 3 (ipykernel)",
   "language": "python",
   "name": "python3"
  },
  "language_info": {
   "codemirror_mode": {
    "name": "ipython",
    "version": 3
   },
   "file_extension": ".py",
   "mimetype": "text/x-python",
   "name": "python",
   "nbconvert_exporter": "python",
   "pygments_lexer": "ipython3",
   "version": "3.9.12"
  }
 },
 "nbformat": 4,
 "nbformat_minor": 5
}
