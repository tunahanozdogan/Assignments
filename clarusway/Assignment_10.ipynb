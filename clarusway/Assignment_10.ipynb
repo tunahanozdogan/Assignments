{
 "cells": [
  {
   "cell_type": "code",
   "execution_count": 1,
   "id": "97d4845c",
   "metadata": {},
   "outputs": [],
   "source": [
    "#Assignment-10 (Python - Covid-19 Risk with if Statements)"
   ]
  },
  {
   "cell_type": "code",
   "execution_count": 2,
   "id": "d80d6b80",
   "metadata": {},
   "outputs": [
    {
     "name": "stdout",
     "output_type": "stream",
     "text": [
      "I am older than 75 - Write it is true or false: True\n",
      "I have a severe chronic disease - Write it is true or false: False\n",
      "My immune system too weak - Write it is true or false: False\n",
      "You are in risky group.\n"
     ]
    }
   ],
   "source": [
    "age = input(\"I am older than 75 - Write it is true or false: \").title()\n",
    "chronic = input(\"I have a severe chronic disease - Write it is true or false: \").title()\n",
    "immune = input( \"My immune system too weak - Write it is true or false: \").title()\n",
    "\n",
    "if age == \"False\" and chronic == \"False\" and immune == \"False\":\n",
    "    print(\"You are not in risky group.\")\n",
    "else:\n",
    "    print(\"You are in risky group.\")"
   ]
  },
  {
   "cell_type": "code",
   "execution_count": null,
   "id": "eef4fbde",
   "metadata": {},
   "outputs": [],
   "source": []
  }
 ],
 "metadata": {
  "kernelspec": {
   "display_name": "Python 3 (ipykernel)",
   "language": "python",
   "name": "python3"
  },
  "language_info": {
   "codemirror_mode": {
    "name": "ipython",
    "version": 3
   },
   "file_extension": ".py",
   "mimetype": "text/x-python",
   "name": "python",
   "nbconvert_exporter": "python",
   "pygments_lexer": "ipython3",
   "version": "3.9.12"
  }
 },
 "nbformat": 4,
 "nbformat_minor": 5
}
