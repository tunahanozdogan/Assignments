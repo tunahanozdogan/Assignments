{
 "cells": [
  {
   "cell_type": "code",
   "execution_count": 4,
   "id": "0b7bfbed",
   "metadata": {},
   "outputs": [
    {
     "name": "stdout",
     "output_type": "stream",
     "text": [
      "lütfen şifrelenecek metni giriniz:\n",
      "34\n",
      "Lütfen Sadece Harflerden Oluşan Bir Metin Giriniz!!\n",
      "lütfen şifrelenecek metni giriniz:\n",
      "tunahan\n",
      "üvöcicö\n"
     ]
    }
   ],
   "source": [
    "alfabe=[\"a\", \"b\", \"c\", \"ç\", \"d\", \"e\", \"f\", \"g\", \"ğ\", \"h\", \"ı\",\"i\",\"j\", \"k\", \"l\", \"m\", \"n\", \"o\", \"ö\", \"p\", \"r\",\"s\", \"ş\", \"t\", \"u\", \"ü\", \"v\", \"y\", \"z\"]\n",
    "def sifrele(metin):\n",
    "    sonuc = \"\"\n",
    "    for i in metin:\n",
    "        if i in alfabe:\n",
    "            sayi = alfabe.index(i)\n",
    "            sayi=(sayi + 2) % 29\n",
    "            sonuc=sonuc+alfabe[sayi]\n",
    "        elif i==\" \":\n",
    "            sonuc=sonuc+i\n",
    "        else:\n",
    "            sonuc += i\n",
    "    return sonuc\n",
    "metin = (input(\"lütfen şifrelenecek metni giriniz:\\n\"))\n",
    "metin=metin.lower()\n",
    "for i in metin:\n",
    "        if i not in alfabe and i != \" \":\n",
    "            print(\"Lütfen Sadece Harflerden Oluşan Bir Metin Giriniz!!\")\n",
    "            metin = (input(\"lütfen şifrelenecek metni giriniz:\\n\"))\n",
    "            metin=metin.lower()\n",
    "            break\n",
    "        else:\n",
    "            sonuc=sifrele(metin)\n",
    "        \n",
    "print(sonuc) "
   ]
  },
  {
   "cell_type": "code",
   "execution_count": null,
   "id": "d272eaa0",
   "metadata": {},
   "outputs": [],
   "source": []
  },
  {
   "cell_type": "code",
   "execution_count": null,
   "id": "fc3f0e28",
   "metadata": {},
   "outputs": [],
   "source": []
  }
 ],
 "metadata": {
  "kernelspec": {
   "display_name": "Python 3 (ipykernel)",
   "language": "python",
   "name": "python3"
  },
  "language_info": {
   "codemirror_mode": {
    "name": "ipython",
    "version": 3
   },
   "file_extension": ".py",
   "mimetype": "text/x-python",
   "name": "python",
   "nbconvert_exporter": "python",
   "pygments_lexer": "ipython3",
   "version": "3.9.12"
  }
 },
 "nbformat": 4,
 "nbformat_minor": 5
}
