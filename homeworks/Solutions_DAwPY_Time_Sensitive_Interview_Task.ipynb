{
 "cells": [
  {
   "cell_type": "code",
   "execution_count": 8,
   "id": "12fae93a-c5db-4196-8d48-d2ac8c0f801f",
   "metadata": {},
   "outputs": [],
   "source": [
    "import numpy as np\n",
    "import pandas as pd\n",
    "import seaborn as sns"
   ]
  },
  {
   "cell_type": "code",
   "execution_count": 9,
   "id": "040d351a-26c7-4c1b-979b-a771a2442ee0",
   "metadata": {},
   "outputs": [],
   "source": [
    "dfsales = pd.read_csv(\"sales_082020.csv\")"
   ]
  },
  {
   "cell_type": "code",
   "execution_count": 10,
   "id": "62e7a7bc-104a-420d-86c7-c4384440beba",
   "metadata": {},
   "outputs": [],
   "source": [
    "dfcur = pd.read_csv(\"currency_rates_082020_EUR.csv\")"
   ]
  },
  {
   "cell_type": "code",
   "execution_count": 172,
   "id": "88517f1c-196f-4c83-9b32-662b906db4e8",
   "metadata": {},
   "outputs": [
    {
     "data": {
      "text/html": [
       "<div>\n",
       "<style scoped>\n",
       "    .dataframe tbody tr th:only-of-type {\n",
       "        vertical-align: middle;\n",
       "    }\n",
       "\n",
       "    .dataframe tbody tr th {\n",
       "        vertical-align: top;\n",
       "    }\n",
       "\n",
       "    .dataframe thead th {\n",
       "        text-align: right;\n",
       "    }\n",
       "</style>\n",
       "<table border=\"1\" class=\"dataframe\">\n",
       "  <thead>\n",
       "    <tr style=\"text-align: right;\">\n",
       "      <th></th>\n",
       "      <th>buyer_id</th>\n",
       "      <th>buyer_country</th>\n",
       "      <th>seller_id</th>\n",
       "      <th>seller_country</th>\n",
       "      <th>product_code</th>\n",
       "      <th>category</th>\n",
       "      <th>brand</th>\n",
       "      <th>currency</th>\n",
       "      <th>price</th>\n",
       "      <th>date</th>\n",
       "    </tr>\n",
       "  </thead>\n",
       "  <tbody>\n",
       "    <tr>\n",
       "      <th>0</th>\n",
       "      <td>qzpjsi9t0o</td>\n",
       "      <td>GB</td>\n",
       "      <td>6oufpaot</td>\n",
       "      <td>GB</td>\n",
       "      <td>ydecnydr6obf</td>\n",
       "      <td>Dresses</td>\n",
       "      <td>NaN</td>\n",
       "      <td>GBP</td>\n",
       "      <td>19.11</td>\n",
       "      <td>2020-08-03</td>\n",
       "    </tr>\n",
       "    <tr>\n",
       "      <th>1</th>\n",
       "      <td>o79pns1qwo</td>\n",
       "      <td>GB</td>\n",
       "      <td>50xki2yg</td>\n",
       "      <td>GB</td>\n",
       "      <td>38chj507o6h2</td>\n",
       "      <td>Outerwear</td>\n",
       "      <td>Adidas Originals</td>\n",
       "      <td>GBP</td>\n",
       "      <td>15.92</td>\n",
       "      <td>2020-08-09</td>\n",
       "    </tr>\n",
       "    <tr>\n",
       "      <th>2</th>\n",
       "      <td>sjgbjdkhqx</td>\n",
       "      <td>GB</td>\n",
       "      <td>50xki2yg</td>\n",
       "      <td>GB</td>\n",
       "      <td>i9ynyxj5tdp8</td>\n",
       "      <td>Tops - Mens</td>\n",
       "      <td>NaN</td>\n",
       "      <td>GBP</td>\n",
       "      <td>6.37</td>\n",
       "      <td>2020-08-07</td>\n",
       "    </tr>\n",
       "    <tr>\n",
       "      <th>3</th>\n",
       "      <td>o79pns1qwo</td>\n",
       "      <td>GB</td>\n",
       "      <td>s0p322hh</td>\n",
       "      <td>GB</td>\n",
       "      <td>t50xe7moye8v</td>\n",
       "      <td>Tops - Mens</td>\n",
       "      <td>Berghaus</td>\n",
       "      <td>GBP</td>\n",
       "      <td>25.27</td>\n",
       "      <td>2020-08-09</td>\n",
       "    </tr>\n",
       "    <tr>\n",
       "      <th>4</th>\n",
       "      <td>o79pns1qwo</td>\n",
       "      <td>GB</td>\n",
       "      <td>dpkx192v</td>\n",
       "      <td>GB</td>\n",
       "      <td>hp4r9bjq68af</td>\n",
       "      <td>Bottoms - Womens</td>\n",
       "      <td>NaN</td>\n",
       "      <td>GBP</td>\n",
       "      <td>8.90</td>\n",
       "      <td>2020-08-09</td>\n",
       "    </tr>\n",
       "  </tbody>\n",
       "</table>\n",
       "</div>"
      ],
      "text/plain": [
       "     buyer_id buyer_country seller_id seller_country  product_code  \\\n",
       "0  qzpjsi9t0o            GB  6oufpaot             GB  ydecnydr6obf   \n",
       "1  o79pns1qwo            GB  50xki2yg             GB  38chj507o6h2   \n",
       "2  sjgbjdkhqx            GB  50xki2yg             GB  i9ynyxj5tdp8   \n",
       "3  o79pns1qwo            GB  s0p322hh             GB  t50xe7moye8v   \n",
       "4  o79pns1qwo            GB  dpkx192v             GB  hp4r9bjq68af   \n",
       "\n",
       "           category             brand currency  price        date  \n",
       "0           Dresses               NaN      GBP  19.11  2020-08-03  \n",
       "1         Outerwear  Adidas Originals      GBP  15.92  2020-08-09  \n",
       "2       Tops - Mens               NaN      GBP   6.37  2020-08-07  \n",
       "3       Tops - Mens          Berghaus      GBP  25.27  2020-08-09  \n",
       "4  Bottoms - Womens               NaN      GBP   8.90  2020-08-09  "
      ]
     },
     "execution_count": 172,
     "metadata": {},
     "output_type": "execute_result"
    }
   ],
   "source": [
    "dfsales.head(5)"
   ]
  },
  {
   "cell_type": "code",
   "execution_count": 28,
   "id": "1c84580b-1b8f-481f-a191-059f6a377e40",
   "metadata": {},
   "outputs": [
    {
     "data": {
      "text/html": [
       "<div>\n",
       "<style scoped>\n",
       "    .dataframe tbody tr th:only-of-type {\n",
       "        vertical-align: middle;\n",
       "    }\n",
       "\n",
       "    .dataframe tbody tr th {\n",
       "        vertical-align: top;\n",
       "    }\n",
       "\n",
       "    .dataframe thead th {\n",
       "        text-align: right;\n",
       "    }\n",
       "</style>\n",
       "<table border=\"1\" class=\"dataframe\">\n",
       "  <thead>\n",
       "    <tr style=\"text-align: right;\">\n",
       "      <th></th>\n",
       "      <th>currency</th>\n",
       "      <th>date</th>\n",
       "      <th>rate</th>\n",
       "    </tr>\n",
       "  </thead>\n",
       "  <tbody>\n",
       "    <tr>\n",
       "      <th>58</th>\n",
       "      <td>NZD</td>\n",
       "      <td>8/9/2020</td>\n",
       "      <td>1.785000</td>\n",
       "    </tr>\n",
       "    <tr>\n",
       "      <th>77</th>\n",
       "      <td>CHF</td>\n",
       "      <td>8/8/2020</td>\n",
       "      <td>1.075550</td>\n",
       "    </tr>\n",
       "    <tr>\n",
       "      <th>10</th>\n",
       "      <td>GBP</td>\n",
       "      <td>8/1/2020</td>\n",
       "      <td>0.900185</td>\n",
       "    </tr>\n",
       "    <tr>\n",
       "      <th>185</th>\n",
       "      <td>TWD</td>\n",
       "      <td>8/6/2020</td>\n",
       "      <td>34.784400</td>\n",
       "    </tr>\n",
       "    <tr>\n",
       "      <th>130</th>\n",
       "      <td>MXN</td>\n",
       "      <td>8/1/2020</td>\n",
       "      <td>26.239400</td>\n",
       "    </tr>\n",
       "    <tr>\n",
       "      <th>150</th>\n",
       "      <td>NOK</td>\n",
       "      <td>8/1/2020</td>\n",
       "      <td>10.713900</td>\n",
       "    </tr>\n",
       "    <tr>\n",
       "      <th>109</th>\n",
       "      <td>ILS</td>\n",
       "      <td>8/10/2020</td>\n",
       "      <td>4.012750</td>\n",
       "    </tr>\n",
       "    <tr>\n",
       "      <th>136</th>\n",
       "      <td>MXN</td>\n",
       "      <td>8/7/2020</td>\n",
       "      <td>26.374850</td>\n",
       "    </tr>\n",
       "    <tr>\n",
       "      <th>182</th>\n",
       "      <td>TWD</td>\n",
       "      <td>8/3/2020</td>\n",
       "      <td>34.456300</td>\n",
       "    </tr>\n",
       "    <tr>\n",
       "      <th>119</th>\n",
       "      <td>PLN</td>\n",
       "      <td>8/10/2020</td>\n",
       "      <td>4.399960</td>\n",
       "    </tr>\n",
       "    <tr>\n",
       "      <th>205</th>\n",
       "      <td>CZK</td>\n",
       "      <td>8/6/2020</td>\n",
       "      <td>26.325700</td>\n",
       "    </tr>\n",
       "    <tr>\n",
       "      <th>172</th>\n",
       "      <td>MYR</td>\n",
       "      <td>8/3/2020</td>\n",
       "      <td>4.949700</td>\n",
       "    </tr>\n",
       "    <tr>\n",
       "      <th>199</th>\n",
       "      <td>HUF</td>\n",
       "      <td>8/10/2020</td>\n",
       "      <td>344.872500</td>\n",
       "    </tr>\n",
       "    <tr>\n",
       "      <th>96</th>\n",
       "      <td>DKK</td>\n",
       "      <td>8/7/2020</td>\n",
       "      <td>7.448150</td>\n",
       "    </tr>\n",
       "    <tr>\n",
       "      <th>153</th>\n",
       "      <td>NOK</td>\n",
       "      <td>8/4/2020</td>\n",
       "      <td>10.736700</td>\n",
       "    </tr>\n",
       "    <tr>\n",
       "      <th>125</th>\n",
       "      <td>THB</td>\n",
       "      <td>8/6/2020</td>\n",
       "      <td>36.906000</td>\n",
       "    </tr>\n",
       "    <tr>\n",
       "      <th>111</th>\n",
       "      <td>PLN</td>\n",
       "      <td>8/2/2020</td>\n",
       "      <td>4.424015</td>\n",
       "    </tr>\n",
       "    <tr>\n",
       "      <th>56</th>\n",
       "      <td>NZD</td>\n",
       "      <td>8/7/2020</td>\n",
       "      <td>1.786125</td>\n",
       "    </tr>\n",
       "    <tr>\n",
       "      <th>197</th>\n",
       "      <td>HUF</td>\n",
       "      <td>8/8/2020</td>\n",
       "      <td>346.200000</td>\n",
       "    </tr>\n",
       "    <tr>\n",
       "      <th>83</th>\n",
       "      <td>SEK</td>\n",
       "      <td>8/4/2020</td>\n",
       "      <td>10.301000</td>\n",
       "    </tr>\n",
       "  </tbody>\n",
       "</table>\n",
       "</div>"
      ],
      "text/plain": [
       "    currency       date        rate\n",
       "58       NZD   8/9/2020    1.785000\n",
       "77       CHF   8/8/2020    1.075550\n",
       "10       GBP   8/1/2020    0.900185\n",
       "185      TWD   8/6/2020   34.784400\n",
       "130      MXN   8/1/2020   26.239400\n",
       "150      NOK   8/1/2020   10.713900\n",
       "109      ILS  8/10/2020    4.012750\n",
       "136      MXN   8/7/2020   26.374850\n",
       "182      TWD   8/3/2020   34.456300\n",
       "119      PLN  8/10/2020    4.399960\n",
       "205      CZK   8/6/2020   26.325700\n",
       "172      MYR   8/3/2020    4.949700\n",
       "199      HUF  8/10/2020  344.872500\n",
       "96       DKK   8/7/2020    7.448150\n",
       "153      NOK   8/4/2020   10.736700\n",
       "125      THB   8/6/2020   36.906000\n",
       "111      PLN   8/2/2020    4.424015\n",
       "56       NZD   8/7/2020    1.786125\n",
       "197      HUF   8/8/2020  346.200000\n",
       "83       SEK   8/4/2020   10.301000"
      ]
     },
     "execution_count": 28,
     "metadata": {},
     "output_type": "execute_result"
    }
   ],
   "source": [
    "dfcur.sample(20)"
   ]
  },
  {
   "cell_type": "code",
   "execution_count": 174,
   "id": "7f7d1e22-671c-4ed0-b5e5-6bc6b799107a",
   "metadata": {},
   "outputs": [
    {
     "name": "stdout",
     "output_type": "stream",
     "text": [
      "<class 'pandas.core.frame.DataFrame'>\n",
      "RangeIndex: 237671 entries, 0 to 237670\n",
      "Data columns (total 10 columns):\n",
      " #   Column          Non-Null Count   Dtype  \n",
      "---  ------          --------------   -----  \n",
      " 0   buyer_id        237671 non-null  object \n",
      " 1   buyer_country   237671 non-null  object \n",
      " 2   seller_id       237671 non-null  object \n",
      " 3   seller_country  237671 non-null  object \n",
      " 4   product_code    237671 non-null  object \n",
      " 5   category        237655 non-null  object \n",
      " 6   brand           119330 non-null  object \n",
      " 7   currency        237671 non-null  object \n",
      " 8   price           237671 non-null  float64\n",
      " 9   date            237671 non-null  object \n",
      "dtypes: float64(1), object(9)\n",
      "memory usage: 18.1+ MB\n"
     ]
    }
   ],
   "source": [
    "dfsales.info()"
   ]
  },
  {
   "cell_type": "code",
   "execution_count": 45,
   "id": "282817ee-0406-484e-8081-295bbc70f048",
   "metadata": {},
   "outputs": [
    {
     "data": {
      "text/html": [
       "<div>\n",
       "<style scoped>\n",
       "    .dataframe tbody tr th:only-of-type {\n",
       "        vertical-align: middle;\n",
       "    }\n",
       "\n",
       "    .dataframe tbody tr th {\n",
       "        vertical-align: top;\n",
       "    }\n",
       "\n",
       "    .dataframe thead th {\n",
       "        text-align: right;\n",
       "    }\n",
       "</style>\n",
       "<table border=\"1\" class=\"dataframe\">\n",
       "  <thead>\n",
       "    <tr style=\"text-align: right;\">\n",
       "      <th></th>\n",
       "      <th>currency</th>\n",
       "      <th>date</th>\n",
       "      <th>rate</th>\n",
       "    </tr>\n",
       "  </thead>\n",
       "  <tbody>\n",
       "    <tr>\n",
       "      <th>142</th>\n",
       "      <td>JPY</td>\n",
       "      <td>2020-08-03</td>\n",
       "      <td>124.704000</td>\n",
       "    </tr>\n",
       "    <tr>\n",
       "      <th>21</th>\n",
       "      <td>USD</td>\n",
       "      <td>2020-08-02</td>\n",
       "      <td>1.178035</td>\n",
       "    </tr>\n",
       "    <tr>\n",
       "      <th>42</th>\n",
       "      <td>CAD</td>\n",
       "      <td>2020-08-03</td>\n",
       "      <td>1.575375</td>\n",
       "    </tr>\n",
       "    <tr>\n",
       "      <th>32</th>\n",
       "      <td>AUD</td>\n",
       "      <td>2020-08-03</td>\n",
       "      <td>1.652380</td>\n",
       "    </tr>\n",
       "    <tr>\n",
       "      <th>9</th>\n",
       "      <td>EUR</td>\n",
       "      <td>2020-08-10</td>\n",
       "      <td>1.000000</td>\n",
       "    </tr>\n",
       "    <tr>\n",
       "      <th>89</th>\n",
       "      <td>SEK</td>\n",
       "      <td>2020-08-10</td>\n",
       "      <td>10.283100</td>\n",
       "    </tr>\n",
       "    <tr>\n",
       "      <th>25</th>\n",
       "      <td>USD</td>\n",
       "      <td>2020-08-06</td>\n",
       "      <td>1.187590</td>\n",
       "    </tr>\n",
       "    <tr>\n",
       "      <th>0</th>\n",
       "      <td>EUR</td>\n",
       "      <td>2020-08-01</td>\n",
       "      <td>1.000000</td>\n",
       "    </tr>\n",
       "    <tr>\n",
       "      <th>160</th>\n",
       "      <td>SGD</td>\n",
       "      <td>2020-08-01</td>\n",
       "      <td>1.619680</td>\n",
       "    </tr>\n",
       "    <tr>\n",
       "      <th>85</th>\n",
       "      <td>SEK</td>\n",
       "      <td>2020-08-06</td>\n",
       "      <td>10.321500</td>\n",
       "    </tr>\n",
       "    <tr>\n",
       "      <th>39</th>\n",
       "      <td>AUD</td>\n",
       "      <td>2020-08-10</td>\n",
       "      <td>1.640800</td>\n",
       "    </tr>\n",
       "    <tr>\n",
       "      <th>93</th>\n",
       "      <td>DKK</td>\n",
       "      <td>2020-08-04</td>\n",
       "      <td>7.449055</td>\n",
       "    </tr>\n",
       "    <tr>\n",
       "      <th>105</th>\n",
       "      <td>ILS</td>\n",
       "      <td>2020-08-06</td>\n",
       "      <td>4.032250</td>\n",
       "    </tr>\n",
       "    <tr>\n",
       "      <th>24</th>\n",
       "      <td>USD</td>\n",
       "      <td>2020-08-05</td>\n",
       "      <td>1.187255</td>\n",
       "    </tr>\n",
       "    <tr>\n",
       "      <th>185</th>\n",
       "      <td>TWD</td>\n",
       "      <td>2020-08-06</td>\n",
       "      <td>34.784400</td>\n",
       "    </tr>\n",
       "    <tr>\n",
       "      <th>54</th>\n",
       "      <td>NZD</td>\n",
       "      <td>2020-08-05</td>\n",
       "      <td>1.786040</td>\n",
       "    </tr>\n",
       "    <tr>\n",
       "      <th>131</th>\n",
       "      <td>MXN</td>\n",
       "      <td>2020-08-02</td>\n",
       "      <td>26.244750</td>\n",
       "    </tr>\n",
       "    <tr>\n",
       "      <th>133</th>\n",
       "      <td>MXN</td>\n",
       "      <td>2020-08-04</td>\n",
       "      <td>26.751450</td>\n",
       "    </tr>\n",
       "    <tr>\n",
       "      <th>179</th>\n",
       "      <td>MYR</td>\n",
       "      <td>2020-08-10</td>\n",
       "      <td>4.928100</td>\n",
       "    </tr>\n",
       "    <tr>\n",
       "      <th>15</th>\n",
       "      <td>GBP</td>\n",
       "      <td>2020-08-06</td>\n",
       "      <td>0.903835</td>\n",
       "    </tr>\n",
       "  </tbody>\n",
       "</table>\n",
       "</div>"
      ],
      "text/plain": [
       "    currency       date        rate\n",
       "142      JPY 2020-08-03  124.704000\n",
       "21       USD 2020-08-02    1.178035\n",
       "42       CAD 2020-08-03    1.575375\n",
       "32       AUD 2020-08-03    1.652380\n",
       "9        EUR 2020-08-10    1.000000\n",
       "89       SEK 2020-08-10   10.283100\n",
       "25       USD 2020-08-06    1.187590\n",
       "0        EUR 2020-08-01    1.000000\n",
       "160      SGD 2020-08-01    1.619680\n",
       "85       SEK 2020-08-06   10.321500\n",
       "39       AUD 2020-08-10    1.640800\n",
       "93       DKK 2020-08-04    7.449055\n",
       "105      ILS 2020-08-06    4.032250\n",
       "24       USD 2020-08-05    1.187255\n",
       "185      TWD 2020-08-06   34.784400\n",
       "54       NZD 2020-08-05    1.786040\n",
       "131      MXN 2020-08-02   26.244750\n",
       "133      MXN 2020-08-04   26.751450\n",
       "179      MYR 2020-08-10    4.928100\n",
       "15       GBP 2020-08-06    0.903835"
      ]
     },
     "execution_count": 45,
     "metadata": {},
     "output_type": "execute_result"
    }
   ],
   "source": [
    "dfcur.sample(20)"
   ]
  },
  {
   "cell_type": "code",
   "execution_count": 13,
   "id": "8ae30c80-2e58-44e9-b3c1-32de712ad854",
   "metadata": {},
   "outputs": [
    {
     "data": {
      "text/plain": [
       "(237671, 10)"
      ]
     },
     "execution_count": 13,
     "metadata": {},
     "output_type": "execute_result"
    }
   ],
   "source": [
    "# 1. How many rows in the sales dataset?\n",
    "# 2. How many columns in the sales dataset?\n",
    "\n",
    "dfsales.shape"
   ]
  },
  {
   "cell_type": "code",
   "execution_count": 27,
   "id": "c7259c4a-49b3-464f-8ce9-7d12d0e0012f",
   "metadata": {},
   "outputs": [
    {
     "data": {
      "text/plain": [
       "114227"
      ]
     },
     "execution_count": 27,
     "metadata": {},
     "output_type": "execute_result"
    }
   ],
   "source": [
    "# 3. What is the total number of sellers?\n",
    "\n",
    "# dfsales.seller_id.value_counts()\n",
    "# dfsales.seller_id.nunique()\n",
    "# len(dfsales.seller_id.unique())\n",
    "dfsales.seller_id.value_counts().count()"
   ]
  },
  {
   "cell_type": "code",
   "execution_count": 40,
   "id": "5daf8e2b-3e32-42d0-b7ae-49085dd710f7",
   "metadata": {},
   "outputs": [
    {
     "data": {
      "text/html": [
       "<div>\n",
       "<style scoped>\n",
       "    .dataframe tbody tr th:only-of-type {\n",
       "        vertical-align: middle;\n",
       "    }\n",
       "\n",
       "    .dataframe tbody tr th {\n",
       "        vertical-align: top;\n",
       "    }\n",
       "\n",
       "    .dataframe thead th {\n",
       "        text-align: right;\n",
       "    }\n",
       "</style>\n",
       "<table border=\"1\" class=\"dataframe\">\n",
       "  <thead>\n",
       "    <tr style=\"text-align: right;\">\n",
       "      <th></th>\n",
       "      <th>buyer_id</th>\n",
       "      <th>buyer_country</th>\n",
       "      <th>seller_id</th>\n",
       "      <th>seller_country</th>\n",
       "      <th>product_code</th>\n",
       "      <th>category</th>\n",
       "      <th>brand</th>\n",
       "      <th>currency</th>\n",
       "      <th>price</th>\n",
       "      <th>date</th>\n",
       "      <th>rate</th>\n",
       "    </tr>\n",
       "  </thead>\n",
       "  <tbody>\n",
       "    <tr>\n",
       "      <th>0</th>\n",
       "      <td>qzpjsi9t0o</td>\n",
       "      <td>GB</td>\n",
       "      <td>6oufpaot</td>\n",
       "      <td>GB</td>\n",
       "      <td>ydecnydr6obf</td>\n",
       "      <td>Dresses</td>\n",
       "      <td>NaN</td>\n",
       "      <td>GBP</td>\n",
       "      <td>19.11</td>\n",
       "      <td>2020-08-03</td>\n",
       "      <td>0.89935</td>\n",
       "    </tr>\n",
       "    <tr>\n",
       "      <th>1</th>\n",
       "      <td>rd209r8c7c</td>\n",
       "      <td>GB</td>\n",
       "      <td>9p2ansc9</td>\n",
       "      <td>GB</td>\n",
       "      <td>wpxxf59cq7pc</td>\n",
       "      <td>Outerwear - Mens</td>\n",
       "      <td>Adidas Originals</td>\n",
       "      <td>GBP</td>\n",
       "      <td>24.91</td>\n",
       "      <td>2020-08-03</td>\n",
       "      <td>0.89935</td>\n",
       "    </tr>\n",
       "    <tr>\n",
       "      <th>2</th>\n",
       "      <td>pqbcrl8azx</td>\n",
       "      <td>GB</td>\n",
       "      <td>r9zmzem8</td>\n",
       "      <td>GB</td>\n",
       "      <td>ua9mmn86wsqy</td>\n",
       "      <td>Tops - Womens</td>\n",
       "      <td>NaN</td>\n",
       "      <td>GBP</td>\n",
       "      <td>19.31</td>\n",
       "      <td>2020-08-03</td>\n",
       "      <td>0.89935</td>\n",
       "    </tr>\n",
       "    <tr>\n",
       "      <th>3</th>\n",
       "      <td>j5en1rwmxp</td>\n",
       "      <td>GB</td>\n",
       "      <td>3o2nz88r</td>\n",
       "      <td>GB</td>\n",
       "      <td>tduo2uy8iszl</td>\n",
       "      <td>Bottoms - Womens</td>\n",
       "      <td>Urban Outfitters</td>\n",
       "      <td>GBP</td>\n",
       "      <td>16.98</td>\n",
       "      <td>2020-08-03</td>\n",
       "      <td>0.89935</td>\n",
       "    </tr>\n",
       "    <tr>\n",
       "      <th>4</th>\n",
       "      <td>kjdezxeh1l</td>\n",
       "      <td>GB</td>\n",
       "      <td>7g56ublf</td>\n",
       "      <td>GB</td>\n",
       "      <td>39o00tcu89zq</td>\n",
       "      <td>Other</td>\n",
       "      <td>NaN</td>\n",
       "      <td>GBP</td>\n",
       "      <td>2.85</td>\n",
       "      <td>2020-08-03</td>\n",
       "      <td>0.89935</td>\n",
       "    </tr>\n",
       "  </tbody>\n",
       "</table>\n",
       "</div>"
      ],
      "text/plain": [
       "     buyer_id buyer_country seller_id seller_country  product_code  \\\n",
       "0  qzpjsi9t0o            GB  6oufpaot             GB  ydecnydr6obf   \n",
       "1  rd209r8c7c            GB  9p2ansc9             GB  wpxxf59cq7pc   \n",
       "2  pqbcrl8azx            GB  r9zmzem8             GB  ua9mmn86wsqy   \n",
       "3  j5en1rwmxp            GB  3o2nz88r             GB  tduo2uy8iszl   \n",
       "4  kjdezxeh1l            GB  7g56ublf             GB  39o00tcu89zq   \n",
       "\n",
       "           category             brand currency  price       date     rate  \n",
       "0           Dresses               NaN      GBP  19.11 2020-08-03  0.89935  \n",
       "1  Outerwear - Mens  Adidas Originals      GBP  24.91 2020-08-03  0.89935  \n",
       "2     Tops - Womens               NaN      GBP  19.31 2020-08-03  0.89935  \n",
       "3  Bottoms - Womens  Urban Outfitters      GBP  16.98 2020-08-03  0.89935  \n",
       "4             Other               NaN      GBP   2.85 2020-08-03  0.89935  "
      ]
     },
     "execution_count": 40,
     "metadata": {},
     "output_type": "execute_result"
    }
   ],
   "source": [
    "# 4. What is the total value of sales in EUR?\n",
    "# 1. yöntem\n",
    "\n",
    "dfsales[\"date\"] = pd.to_datetime(dfsales[\"date\"])\n",
    "dfcur[\"date\"] = pd.to_datetime(dfcur[\"date\"])\n",
    "\n",
    "df = pd.merge(dfsales, dfcur, how='inner', on=['currency', 'date'])\n",
    "df.head()"
   ]
  },
  {
   "cell_type": "code",
   "execution_count": 41,
   "id": "9f4b67e5-d14e-4bc2-8be9-5c1bfbe03c2a",
   "metadata": {},
   "outputs": [],
   "source": [
    "df[\"sales_EU\"] = df.price / df.rate"
   ]
  },
  {
   "cell_type": "code",
   "execution_count": 42,
   "id": "3adc6d82-6325-48e9-90fd-5651d60c22fa",
   "metadata": {},
   "outputs": [
    {
     "data": {
      "text/html": [
       "<div>\n",
       "<style scoped>\n",
       "    .dataframe tbody tr th:only-of-type {\n",
       "        vertical-align: middle;\n",
       "    }\n",
       "\n",
       "    .dataframe tbody tr th {\n",
       "        vertical-align: top;\n",
       "    }\n",
       "\n",
       "    .dataframe thead th {\n",
       "        text-align: right;\n",
       "    }\n",
       "</style>\n",
       "<table border=\"1\" class=\"dataframe\">\n",
       "  <thead>\n",
       "    <tr style=\"text-align: right;\">\n",
       "      <th></th>\n",
       "      <th>buyer_id</th>\n",
       "      <th>buyer_country</th>\n",
       "      <th>seller_id</th>\n",
       "      <th>seller_country</th>\n",
       "      <th>product_code</th>\n",
       "      <th>category</th>\n",
       "      <th>brand</th>\n",
       "      <th>currency</th>\n",
       "      <th>price</th>\n",
       "      <th>date</th>\n",
       "      <th>rate</th>\n",
       "      <th>sales_EU</th>\n",
       "    </tr>\n",
       "  </thead>\n",
       "  <tbody>\n",
       "    <tr>\n",
       "      <th>0</th>\n",
       "      <td>qzpjsi9t0o</td>\n",
       "      <td>GB</td>\n",
       "      <td>6oufpaot</td>\n",
       "      <td>GB</td>\n",
       "      <td>ydecnydr6obf</td>\n",
       "      <td>Dresses</td>\n",
       "      <td>NaN</td>\n",
       "      <td>GBP</td>\n",
       "      <td>19.11</td>\n",
       "      <td>2020-08-03</td>\n",
       "      <td>0.89935</td>\n",
       "      <td>21.248680</td>\n",
       "    </tr>\n",
       "    <tr>\n",
       "      <th>1</th>\n",
       "      <td>rd209r8c7c</td>\n",
       "      <td>GB</td>\n",
       "      <td>9p2ansc9</td>\n",
       "      <td>GB</td>\n",
       "      <td>wpxxf59cq7pc</td>\n",
       "      <td>Outerwear - Mens</td>\n",
       "      <td>Adidas Originals</td>\n",
       "      <td>GBP</td>\n",
       "      <td>24.91</td>\n",
       "      <td>2020-08-03</td>\n",
       "      <td>0.89935</td>\n",
       "      <td>27.697782</td>\n",
       "    </tr>\n",
       "    <tr>\n",
       "      <th>2</th>\n",
       "      <td>pqbcrl8azx</td>\n",
       "      <td>GB</td>\n",
       "      <td>r9zmzem8</td>\n",
       "      <td>GB</td>\n",
       "      <td>ua9mmn86wsqy</td>\n",
       "      <td>Tops - Womens</td>\n",
       "      <td>NaN</td>\n",
       "      <td>GBP</td>\n",
       "      <td>19.31</td>\n",
       "      <td>2020-08-03</td>\n",
       "      <td>0.89935</td>\n",
       "      <td>21.471062</td>\n",
       "    </tr>\n",
       "    <tr>\n",
       "      <th>3</th>\n",
       "      <td>j5en1rwmxp</td>\n",
       "      <td>GB</td>\n",
       "      <td>3o2nz88r</td>\n",
       "      <td>GB</td>\n",
       "      <td>tduo2uy8iszl</td>\n",
       "      <td>Bottoms - Womens</td>\n",
       "      <td>Urban Outfitters</td>\n",
       "      <td>GBP</td>\n",
       "      <td>16.98</td>\n",
       "      <td>2020-08-03</td>\n",
       "      <td>0.89935</td>\n",
       "      <td>18.880302</td>\n",
       "    </tr>\n",
       "    <tr>\n",
       "      <th>4</th>\n",
       "      <td>kjdezxeh1l</td>\n",
       "      <td>GB</td>\n",
       "      <td>7g56ublf</td>\n",
       "      <td>GB</td>\n",
       "      <td>39o00tcu89zq</td>\n",
       "      <td>Other</td>\n",
       "      <td>NaN</td>\n",
       "      <td>GBP</td>\n",
       "      <td>2.85</td>\n",
       "      <td>2020-08-03</td>\n",
       "      <td>0.89935</td>\n",
       "      <td>3.168955</td>\n",
       "    </tr>\n",
       "  </tbody>\n",
       "</table>\n",
       "</div>"
      ],
      "text/plain": [
       "     buyer_id buyer_country seller_id seller_country  product_code  \\\n",
       "0  qzpjsi9t0o            GB  6oufpaot             GB  ydecnydr6obf   \n",
       "1  rd209r8c7c            GB  9p2ansc9             GB  wpxxf59cq7pc   \n",
       "2  pqbcrl8azx            GB  r9zmzem8             GB  ua9mmn86wsqy   \n",
       "3  j5en1rwmxp            GB  3o2nz88r             GB  tduo2uy8iszl   \n",
       "4  kjdezxeh1l            GB  7g56ublf             GB  39o00tcu89zq   \n",
       "\n",
       "           category             brand currency  price       date     rate  \\\n",
       "0           Dresses               NaN      GBP  19.11 2020-08-03  0.89935   \n",
       "1  Outerwear - Mens  Adidas Originals      GBP  24.91 2020-08-03  0.89935   \n",
       "2     Tops - Womens               NaN      GBP  19.31 2020-08-03  0.89935   \n",
       "3  Bottoms - Womens  Urban Outfitters      GBP  16.98 2020-08-03  0.89935   \n",
       "4             Other               NaN      GBP   2.85 2020-08-03  0.89935   \n",
       "\n",
       "    sales_EU  \n",
       "0  21.248680  \n",
       "1  27.697782  \n",
       "2  21.471062  \n",
       "3  18.880302  \n",
       "4   3.168955  "
      ]
     },
     "execution_count": 42,
     "metadata": {},
     "output_type": "execute_result"
    }
   ],
   "source": [
    "df.head()"
   ]
  },
  {
   "cell_type": "code",
   "execution_count": 46,
   "id": "0c737fe0-b6ff-4d4f-87aa-9e99741bca17",
   "metadata": {},
   "outputs": [
    {
     "data": {
      "text/plain": [
       "6471510.822498876"
      ]
     },
     "execution_count": 46,
     "metadata": {},
     "output_type": "execute_result"
    }
   ],
   "source": [
    "df.sales_EU.sum()"
   ]
  },
  {
   "cell_type": "code",
   "execution_count": 48,
   "id": "7aef63f2-1a5a-4dd6-ba07-80db804b8e79",
   "metadata": {},
   "outputs": [],
   "source": [
    "# 2. yöntem\n",
    "df5 = dfsales.merge(dfcur, how = \"left\", on = [\"currency\",\"date\"])"
   ]
  },
  {
   "cell_type": "code",
   "execution_count": 52,
   "id": "1626ce8d-f80c-4ffe-99c7-682cc71d2250",
   "metadata": {},
   "outputs": [],
   "source": [
    "df5[\"EU_Sales\"] = (1 / df5.rate)*df5.price\n"
   ]
  },
  {
   "cell_type": "code",
   "execution_count": 53,
   "id": "dded14e8-764f-4430-860a-c1045ad01d39",
   "metadata": {},
   "outputs": [
    {
     "data": {
      "text/plain": [
       "6471510.8224988775"
      ]
     },
     "execution_count": 53,
     "metadata": {},
     "output_type": "execute_result"
    }
   ],
   "source": [
    "df5.EU_Sales.sum()"
   ]
  },
  {
   "cell_type": "code",
   "execution_count": 63,
   "id": "52f2ce20-9de1-4e41-bad0-73cecbb3f350",
   "metadata": {},
   "outputs": [
    {
     "data": {
      "text/plain": [
       "'Nike'"
      ]
     },
     "execution_count": 63,
     "metadata": {},
     "output_type": "execute_result"
    }
   ],
   "source": [
    "# 5. Which brand has the highest number of purchases during the period?\n",
    "\n",
    "# dfsales.brand.value_counts().head(1)\n",
    "# dfsales.brand.mode()\n",
    "\n",
    "# dfsales.groupby([\"brand\"]).apply(lambda x : len(x)).nlargest().index[0]\n",
    "\n",
    "(\n",
    "    df5\n",
    "    .groupby('brand')\n",
    "    .agg({'EU_Sales': 'sum'})\n",
    "    .sort_values(by='EU_Sales', ascending=False)\n",
    "    .index[0]\n",
    ")"
   ]
  },
  {
   "cell_type": "code",
   "execution_count": 68,
   "id": "5572541e-d356-4015-84e4-6757e9b13228",
   "metadata": {},
   "outputs": [
    {
     "data": {
      "text/plain": [
       "'Nike'"
      ]
     },
     "execution_count": 68,
     "metadata": {},
     "output_type": "execute_result"
    }
   ],
   "source": [
    "# yontem 5\n",
    "df5.groupby(\"brand\").EU_Sales.sum().sort_values(ascending=False).index[0]"
   ]
  },
  {
   "cell_type": "code",
   "execution_count": 286,
   "id": "6663a450-8158-46b4-9d92-b5930829747d",
   "metadata": {},
   "outputs": [],
   "source": [
    "# 6. How many items in the “Jewellery” category have no brand associated with them?\n",
    "\n"
   ]
  },
  {
   "cell_type": "code",
   "execution_count": 298,
   "id": "33c0d685-6faf-4d56-ab6e-9c0a3db0e101",
   "metadata": {},
   "outputs": [
    {
     "data": {
      "text/plain": [
       "13525"
      ]
     },
     "execution_count": 298,
     "metadata": {},
     "output_type": "execute_result"
    }
   ],
   "source": [
    "dff = dfsales.loc[dfsales.category==\"Jewellery\", \"brand\"].isnull().sum()\n",
    "# bu yanlis sonuc. asil sordugu how many diffrent items kastediliyormus."
   ]
  },
  {
   "cell_type": "code",
   "execution_count": 311,
   "id": "1f95fef9-da77-4550-bc8f-2e2b7b4e16b8",
   "metadata": {},
   "outputs": [
    {
     "data": {
      "text/plain": [
       "10931"
      ]
     },
     "execution_count": 311,
     "metadata": {},
     "output_type": "execute_result"
    }
   ],
   "source": [
    "dfsales[(dfsales['category']==\"Jewellery\") & (dfsales['brand'].isnull())]['product_code'].nunique()"
   ]
  },
  {
   "cell_type": "code",
   "execution_count": 69,
   "id": "09f2e079-610b-4178-b04b-648ee7c24109",
   "metadata": {},
   "outputs": [
    {
     "data": {
      "text/plain": [
       "buyer_id           9664\n",
       "buyer_country         9\n",
       "seller_id          3915\n",
       "seller_country        9\n",
       "product_code      10931\n",
       "category              1\n",
       "brand                 0\n",
       "currency              9\n",
       "price              3380\n",
       "date                  7\n",
       "dtype: int64"
      ]
     },
     "execution_count": 69,
     "metadata": {},
     "output_type": "execute_result"
    }
   ],
   "source": [
    "dfsales[(dfsales['category']==\"Jewellery\") & (dfsales['brand'].isnull())].nunique()"
   ]
  },
  {
   "cell_type": "code",
   "execution_count": 313,
   "id": "47e5eeb4-2791-44c8-bd42-a8318cde78d1",
   "metadata": {},
   "outputs": [
    {
     "data": {
      "text/html": [
       "<div>\n",
       "<style scoped>\n",
       "    .dataframe tbody tr th:only-of-type {\n",
       "        vertical-align: middle;\n",
       "    }\n",
       "\n",
       "    .dataframe tbody tr th {\n",
       "        vertical-align: top;\n",
       "    }\n",
       "\n",
       "    .dataframe thead th {\n",
       "        text-align: right;\n",
       "    }\n",
       "</style>\n",
       "<table border=\"1\" class=\"dataframe\">\n",
       "  <thead>\n",
       "    <tr style=\"text-align: right;\">\n",
       "      <th></th>\n",
       "      <th>buyer_id</th>\n",
       "      <th>buyer_country</th>\n",
       "      <th>seller_id</th>\n",
       "      <th>seller_country</th>\n",
       "      <th>product_code</th>\n",
       "      <th>category</th>\n",
       "      <th>brand</th>\n",
       "      <th>currency</th>\n",
       "      <th>date</th>\n",
       "    </tr>\n",
       "  </thead>\n",
       "  <tbody>\n",
       "    <tr>\n",
       "      <th>count</th>\n",
       "      <td>13525</td>\n",
       "      <td>13525</td>\n",
       "      <td>13525</td>\n",
       "      <td>13525</td>\n",
       "      <td>13525</td>\n",
       "      <td>13525</td>\n",
       "      <td>0</td>\n",
       "      <td>13525</td>\n",
       "      <td>13525</td>\n",
       "    </tr>\n",
       "    <tr>\n",
       "      <th>unique</th>\n",
       "      <td>9664</td>\n",
       "      <td>9</td>\n",
       "      <td>3915</td>\n",
       "      <td>9</td>\n",
       "      <td>10931</td>\n",
       "      <td>1</td>\n",
       "      <td>0</td>\n",
       "      <td>9</td>\n",
       "      <td>7</td>\n",
       "    </tr>\n",
       "    <tr>\n",
       "      <th>top</th>\n",
       "      <td>w3k61oeocr</td>\n",
       "      <td>GB</td>\n",
       "      <td>pzsiehl0</td>\n",
       "      <td>GB</td>\n",
       "      <td>fb59ug7bzkz5</td>\n",
       "      <td>Jewellery</td>\n",
       "      <td>NaN</td>\n",
       "      <td>GBP</td>\n",
       "      <td>2020-08-07</td>\n",
       "    </tr>\n",
       "    <tr>\n",
       "      <th>freq</th>\n",
       "      <td>13</td>\n",
       "      <td>6117</td>\n",
       "      <td>526</td>\n",
       "      <td>6385</td>\n",
       "      <td>177</td>\n",
       "      <td>13525</td>\n",
       "      <td>NaN</td>\n",
       "      <td>6387</td>\n",
       "      <td>2117</td>\n",
       "    </tr>\n",
       "  </tbody>\n",
       "</table>\n",
       "</div>"
      ],
      "text/plain": [
       "          buyer_id buyer_country seller_id seller_country  product_code  \\\n",
       "count        13525         13525     13525          13525         13525   \n",
       "unique        9664             9      3915              9         10931   \n",
       "top     w3k61oeocr            GB  pzsiehl0             GB  fb59ug7bzkz5   \n",
       "freq            13          6117       526           6385           177   \n",
       "\n",
       "         category brand currency        date  \n",
       "count       13525     0    13525       13525  \n",
       "unique          1     0        9           7  \n",
       "top     Jewellery   NaN      GBP  2020-08-07  \n",
       "freq        13525   NaN     6387        2117  "
      ]
     },
     "execution_count": 313,
     "metadata": {},
     "output_type": "execute_result"
    }
   ],
   "source": [
    "dfsales[(dfsales['category']==\"Jewellery\") & (dfsales['brand'].isnull())].describe(include=\"O\")"
   ]
  },
  {
   "cell_type": "code",
   "execution_count": null,
   "id": "5eef917a-7221-4fa1-a9d7-04e4676f1264",
   "metadata": {},
   "outputs": [],
   "source": []
  },
  {
   "cell_type": "code",
   "execution_count": null,
   "id": "78b6df43-7fff-46e9-9a1c-e7028e29ea15",
   "metadata": {},
   "outputs": [],
   "source": []
  },
  {
   "cell_type": "code",
   "execution_count": 163,
   "id": "f38f9f0c-373b-474c-aaef-aec4fbc808f4",
   "metadata": {},
   "outputs": [
    {
     "data": {
      "text/plain": [
       "81"
      ]
     },
     "execution_count": 163,
     "metadata": {},
     "output_type": "execute_result"
    }
   ],
   "source": [
    "#  7. How many brands have between 35 and 55 transactions (inclusive)?\n",
    "dff = (dfsales.groupby(\"brand\")[\"brand\"].count() >= 35) & (dfsales.groupby(\"brand\")[\"brand\"].count() <= 55)\n",
    "dff.sum()"
   ]
  },
  {
   "cell_type": "code",
   "execution_count": 164,
   "id": "bdd140ef-99d5-49c1-b849-879a42c8030b",
   "metadata": {},
   "outputs": [
    {
     "data": {
      "text/plain": [
       "81"
      ]
     },
     "execution_count": 164,
     "metadata": {},
     "output_type": "execute_result"
    }
   ],
   "source": [
    "# or\n",
    "((dfsales.brand.value_counts() >= 35) & (dfsales.brand.value_counts() <= 55)).sum()"
   ]
  },
  {
   "cell_type": "code",
   "execution_count": 70,
   "id": "8396a77e-c262-4a36-9dff-eae8dad0b34a",
   "metadata": {},
   "outputs": [
    {
     "data": {
      "text/plain": [
       "81"
      ]
     },
     "execution_count": 70,
     "metadata": {},
     "output_type": "execute_result"
    }
   ],
   "source": [
    "# 3. yöntem\n",
    "(dfsales.groupby('brand')['brand'].count().apply(lambda x: 34 < x < 56)).sum()"
   ]
  },
  {
   "cell_type": "code",
   "execution_count": 165,
   "id": "3bbc8dd6-4e7a-41c4-9405-50287253d33f",
   "metadata": {},
   "outputs": [
    {
     "data": {
      "text/html": [
       "<div>\n",
       "<style scoped>\n",
       "    .dataframe tbody tr th:only-of-type {\n",
       "        vertical-align: middle;\n",
       "    }\n",
       "\n",
       "    .dataframe tbody tr th {\n",
       "        vertical-align: top;\n",
       "    }\n",
       "\n",
       "    .dataframe thead th {\n",
       "        text-align: right;\n",
       "    }\n",
       "</style>\n",
       "<table border=\"1\" class=\"dataframe\">\n",
       "  <thead>\n",
       "    <tr style=\"text-align: right;\">\n",
       "      <th></th>\n",
       "      <th>buyer_id</th>\n",
       "      <th>buyer_country</th>\n",
       "      <th>seller_id</th>\n",
       "      <th>seller_country</th>\n",
       "      <th>product_code</th>\n",
       "      <th>category</th>\n",
       "      <th>brand</th>\n",
       "      <th>currency</th>\n",
       "      <th>price</th>\n",
       "      <th>date</th>\n",
       "    </tr>\n",
       "  </thead>\n",
       "  <tbody>\n",
       "    <tr>\n",
       "      <th>139</th>\n",
       "      <td>ex9bpqq8w6</td>\n",
       "      <td>AU</td>\n",
       "      <td>j3pkou10</td>\n",
       "      <td>US</td>\n",
       "      <td>2tzszjhssh03</td>\n",
       "      <td>Shoes</td>\n",
       "      <td>Skechers</td>\n",
       "      <td>USD</td>\n",
       "      <td>52.24</td>\n",
       "      <td>2020-08-08</td>\n",
       "    </tr>\n",
       "    <tr>\n",
       "      <th>539</th>\n",
       "      <td>uru4etz7e5</td>\n",
       "      <td>AU</td>\n",
       "      <td>1i84ez1k</td>\n",
       "      <td>AU</td>\n",
       "      <td>zzu9hpjsjx6o</td>\n",
       "      <td>Shoes</td>\n",
       "      <td>NaN</td>\n",
       "      <td>AUD</td>\n",
       "      <td>73.73</td>\n",
       "      <td>2020-08-09</td>\n",
       "    </tr>\n",
       "    <tr>\n",
       "      <th>5639</th>\n",
       "      <td>9fn32ae6a9</td>\n",
       "      <td>AU</td>\n",
       "      <td>arloo1le</td>\n",
       "      <td>GB</td>\n",
       "      <td>a2gdza98bia7</td>\n",
       "      <td>Shoes</td>\n",
       "      <td>Nike</td>\n",
       "      <td>GBP</td>\n",
       "      <td>75.27</td>\n",
       "      <td>2020-08-09</td>\n",
       "    </tr>\n",
       "    <tr>\n",
       "      <th>7117</th>\n",
       "      <td>40jm2mgsri</td>\n",
       "      <td>AU</td>\n",
       "      <td>toud3ymd</td>\n",
       "      <td>AU</td>\n",
       "      <td>so29y8tl6rvs</td>\n",
       "      <td>Shoes</td>\n",
       "      <td>Nike</td>\n",
       "      <td>AUD</td>\n",
       "      <td>55.03</td>\n",
       "      <td>2020-08-09</td>\n",
       "    </tr>\n",
       "    <tr>\n",
       "      <th>7118</th>\n",
       "      <td>ncxx01xn4j</td>\n",
       "      <td>AU</td>\n",
       "      <td>toud3ymd</td>\n",
       "      <td>AU</td>\n",
       "      <td>utn7clcp7j3n</td>\n",
       "      <td>Shoes</td>\n",
       "      <td>NaN</td>\n",
       "      <td>AUD</td>\n",
       "      <td>211.76</td>\n",
       "      <td>2020-08-03</td>\n",
       "    </tr>\n",
       "    <tr>\n",
       "      <th>...</th>\n",
       "      <td>...</td>\n",
       "      <td>...</td>\n",
       "      <td>...</td>\n",
       "      <td>...</td>\n",
       "      <td>...</td>\n",
       "      <td>...</td>\n",
       "      <td>...</td>\n",
       "      <td>...</td>\n",
       "      <td>...</td>\n",
       "      <td>...</td>\n",
       "    </tr>\n",
       "    <tr>\n",
       "      <th>236930</th>\n",
       "      <td>azmnowovd7</td>\n",
       "      <td>AU</td>\n",
       "      <td>xgse9ed3</td>\n",
       "      <td>AU</td>\n",
       "      <td>1xzq0f7a31bi</td>\n",
       "      <td>Shoes</td>\n",
       "      <td>NaN</td>\n",
       "      <td>AUD</td>\n",
       "      <td>85.48</td>\n",
       "      <td>2020-08-05</td>\n",
       "    </tr>\n",
       "    <tr>\n",
       "      <th>237075</th>\n",
       "      <td>i0loqi83nv</td>\n",
       "      <td>AU</td>\n",
       "      <td>f8ts15sr</td>\n",
       "      <td>AU</td>\n",
       "      <td>zvrlgzyse7j6</td>\n",
       "      <td>Shoes</td>\n",
       "      <td>NaN</td>\n",
       "      <td>AUD</td>\n",
       "      <td>34.01</td>\n",
       "      <td>2020-08-05</td>\n",
       "    </tr>\n",
       "    <tr>\n",
       "      <th>237495</th>\n",
       "      <td>86aw49gm0m</td>\n",
       "      <td>AU</td>\n",
       "      <td>seb5z7bo</td>\n",
       "      <td>AU</td>\n",
       "      <td>xeebt9i4gyo3</td>\n",
       "      <td>Shoes</td>\n",
       "      <td>NaN</td>\n",
       "      <td>AUD</td>\n",
       "      <td>85.69</td>\n",
       "      <td>2020-08-05</td>\n",
       "    </tr>\n",
       "    <tr>\n",
       "      <th>237497</th>\n",
       "      <td>pcd2mdsr3n</td>\n",
       "      <td>AU</td>\n",
       "      <td>agzes91a</td>\n",
       "      <td>AU</td>\n",
       "      <td>bvqweclvm8tx</td>\n",
       "      <td>Shoes</td>\n",
       "      <td>NaN</td>\n",
       "      <td>AUD</td>\n",
       "      <td>95.27</td>\n",
       "      <td>2020-08-06</td>\n",
       "    </tr>\n",
       "    <tr>\n",
       "      <th>237575</th>\n",
       "      <td>0s9ms8inq0</td>\n",
       "      <td>AU</td>\n",
       "      <td>zkon4br2</td>\n",
       "      <td>AU</td>\n",
       "      <td>srw1zpebx9zo</td>\n",
       "      <td>Shoes</td>\n",
       "      <td>Nike</td>\n",
       "      <td>AUD</td>\n",
       "      <td>180.12</td>\n",
       "      <td>2020-08-05</td>\n",
       "    </tr>\n",
       "  </tbody>\n",
       "</table>\n",
       "<p>658 rows × 10 columns</p>\n",
       "</div>"
      ],
      "text/plain": [
       "          buyer_id buyer_country seller_id seller_country  product_code  \\\n",
       "139     ex9bpqq8w6            AU  j3pkou10             US  2tzszjhssh03   \n",
       "539     uru4etz7e5            AU  1i84ez1k             AU  zzu9hpjsjx6o   \n",
       "5639    9fn32ae6a9            AU  arloo1le             GB  a2gdza98bia7   \n",
       "7117    40jm2mgsri            AU  toud3ymd             AU  so29y8tl6rvs   \n",
       "7118    ncxx01xn4j            AU  toud3ymd             AU  utn7clcp7j3n   \n",
       "...            ...           ...       ...            ...           ...   \n",
       "236930  azmnowovd7            AU  xgse9ed3             AU  1xzq0f7a31bi   \n",
       "237075  i0loqi83nv            AU  f8ts15sr             AU  zvrlgzyse7j6   \n",
       "237495  86aw49gm0m            AU  seb5z7bo             AU  xeebt9i4gyo3   \n",
       "237497  pcd2mdsr3n            AU  agzes91a             AU  bvqweclvm8tx   \n",
       "237575  0s9ms8inq0            AU  zkon4br2             AU  srw1zpebx9zo   \n",
       "\n",
       "       category     brand currency   price        date  \n",
       "139       Shoes  Skechers      USD   52.24  2020-08-08  \n",
       "539       Shoes       NaN      AUD   73.73  2020-08-09  \n",
       "5639      Shoes      Nike      GBP   75.27  2020-08-09  \n",
       "7117      Shoes      Nike      AUD   55.03  2020-08-09  \n",
       "7118      Shoes       NaN      AUD  211.76  2020-08-03  \n",
       "...         ...       ...      ...     ...         ...  \n",
       "236930    Shoes       NaN      AUD   85.48  2020-08-05  \n",
       "237075    Shoes       NaN      AUD   34.01  2020-08-05  \n",
       "237495    Shoes       NaN      AUD   85.69  2020-08-05  \n",
       "237497    Shoes       NaN      AUD   95.27  2020-08-06  \n",
       "237575    Shoes      Nike      AUD  180.12  2020-08-05  \n",
       "\n",
       "[658 rows x 10 columns]"
      ]
     },
     "execution_count": 165,
     "metadata": {},
     "output_type": "execute_result"
    }
   ],
   "source": [
    "# 8. How many pairs of shoes were purchased by Australian (AU) buyers?\n",
    "\n",
    "dfsales.loc[(dfsales.buyer_country == \"AU\") & (dfsales.category == \"Shoes\")]"
   ]
  },
  {
   "cell_type": "code",
   "execution_count": 185,
   "id": "0b05a6d9-1fe0-4652-aa9b-edcca5f5c7e0",
   "metadata": {},
   "outputs": [
    {
     "data": {
      "text/plain": [
       "658"
      ]
     },
     "execution_count": 185,
     "metadata": {},
     "output_type": "execute_result"
    }
   ],
   "source": [
    "dfsales.loc[(dfsales.buyer_country == \"AU\") & (dfsales.category == \"Shoes\")].shape[0]"
   ]
  },
  {
   "cell_type": "code",
   "execution_count": 75,
   "id": "74dc600e-5c29-4865-899d-b8d120c9b851",
   "metadata": {},
   "outputs": [
    {
     "data": {
      "text/plain": [
       "category    658\n",
       "dtype: int64"
      ]
     },
     "execution_count": 75,
     "metadata": {},
     "output_type": "execute_result"
    }
   ],
   "source": [
    "# 2. yöntem\n",
    "(dfsales[dfsales[\"buyer_country\"] == \"AU\"][[\"category\"]] == \"Shoes\").sum()"
   ]
  },
  {
   "cell_type": "code",
   "execution_count": 84,
   "id": "07330e71-6828-46d3-b08d-00ec39f8376e",
   "metadata": {},
   "outputs": [
    {
     "data": {
      "text/html": [
       "<div>\n",
       "<style scoped>\n",
       "    .dataframe tbody tr th:only-of-type {\n",
       "        vertical-align: middle;\n",
       "    }\n",
       "\n",
       "    .dataframe tbody tr th {\n",
       "        vertical-align: top;\n",
       "    }\n",
       "\n",
       "    .dataframe thead th {\n",
       "        text-align: right;\n",
       "    }\n",
       "</style>\n",
       "<table border=\"1\" class=\"dataframe\">\n",
       "  <thead>\n",
       "    <tr style=\"text-align: right;\">\n",
       "      <th></th>\n",
       "      <th>EU_Sales</th>\n",
       "    </tr>\n",
       "    <tr>\n",
       "      <th>brand</th>\n",
       "      <th></th>\n",
       "    </tr>\n",
       "  </thead>\n",
       "  <tbody>\n",
       "    <tr>\n",
       "      <th>Goyard</th>\n",
       "      <td>338.926936</td>\n",
       "    </tr>\n",
       "  </tbody>\n",
       "</table>\n",
       "</div>"
      ],
      "text/plain": [
       "          EU_Sales\n",
       "brand             \n",
       "Goyard  338.926936"
      ]
     },
     "execution_count": 84,
     "metadata": {},
     "output_type": "execute_result"
    }
   ],
   "source": [
    "# 9. Which brand has the highest average transaction value?\n",
    "# 1. yontem\n",
    "df5.groupby(\"brand\")[[\"EU_Sales\"]].mean().sort_values(\"EU_Sales\").tail(1)"
   ]
  },
  {
   "cell_type": "code",
   "execution_count": 85,
   "id": "5bd867f1-bd30-4526-a773-fe28eeccb69c",
   "metadata": {},
   "outputs": [
    {
     "data": {
      "text/plain": [
       "EU_Sales    Goyard\n",
       "dtype: object"
      ]
     },
     "execution_count": 85,
     "metadata": {},
     "output_type": "execute_result"
    }
   ],
   "source": [
    "# 2 yontem\n",
    "df5.groupby(\"brand\")[[\"EU_Sales\"]].mean().idxmax()"
   ]
  },
  {
   "cell_type": "code",
   "execution_count": 86,
   "id": "7c0abe3e-655f-4fee-80d1-3cdd6c4c0c17",
   "metadata": {},
   "outputs": [
    {
     "data": {
      "text/plain": [
       "3526745.0331292334"
      ]
     },
     "execution_count": 86,
     "metadata": {},
     "output_type": "execute_result"
    }
   ],
   "source": [
    "# 10. What is the total value of items purchased by GB buyers from GB sellers?\n",
    "\n",
    "df5.loc[(df5.buyer_country == \"GB\") & (df5.seller_country == \"GB\"), \"EU_Sales\"].sum()\n"
   ]
  },
  {
   "cell_type": "code",
   "execution_count": null,
   "id": "8e03a91a-17d4-4bf5-b17c-56be081c59d7",
   "metadata": {},
   "outputs": [],
   "source": []
  },
  {
   "cell_type": "code",
   "execution_count": 170,
   "id": "483cbdaa-173b-445d-8303-6a1042b36800",
   "metadata": {},
   "outputs": [
    {
     "data": {
      "text/plain": [
       "0.9598216537130441"
      ]
     },
     "execution_count": 170,
     "metadata": {},
     "output_type": "execute_result"
    }
   ],
   "source": [
    "# 11. What percentage of US sellers' transactions were purchased by US buyers?\n",
    "\n",
    "dfsales.loc[(dfsales.seller_country == \"US\") & (dfsales.buyer_country == \"US\"), \"price\"].sum() / dfsales.loc[\n",
    "    dfsales.seller_country == \"US\", \"price\"].sum()"
   ]
  },
  {
   "cell_type": "code",
   "execution_count": 87,
   "id": "4312e012-561b-4d4b-a05e-e5029c56e376",
   "metadata": {},
   "outputs": [
    {
     "data": {
      "text/plain": [
       "0.9598216537130441"
      ]
     },
     "execution_count": 87,
     "metadata": {},
     "output_type": "execute_result"
    }
   ],
   "source": [
    "# 2. yontem\n",
    "\n",
    "a = dfsales.loc[(dfsales.seller_country == \"US\") & (dfsales.buyer_country == \"US\"), \"price\"].sum()\n",
    "\n",
    "b = dfsales.loc[dfsales.seller_country == \"US\", \"price\"].sum()\n",
    "\n",
    "a/b"
   ]
  },
  {
   "cell_type": "code",
   "execution_count": null,
   "id": "18021da8-750a-4d3a-8ff0-271d65f2dc52",
   "metadata": {},
   "outputs": [],
   "source": []
  },
  {
   "cell_type": "code",
   "execution_count": null,
   "id": "5f694c1c-3b9e-453a-b1e3-47d5c86bf046",
   "metadata": {},
   "outputs": [],
   "source": []
  },
  {
   "cell_type": "code",
   "execution_count": null,
   "id": "b4a38f6c-0124-48f0-baa4-4af61737579c",
   "metadata": {},
   "outputs": [],
   "source": []
  },
  {
   "cell_type": "code",
   "execution_count": null,
   "id": "7fd3c55f-712e-4024-ad5e-e84149e554eb",
   "metadata": {},
   "outputs": [],
   "source": []
  },
  {
   "cell_type": "code",
   "execution_count": null,
   "id": "a92a1dee-7f07-4e7b-8a99-4fcf23ab3351",
   "metadata": {},
   "outputs": [],
   "source": []
  },
  {
   "cell_type": "code",
   "execution_count": null,
   "id": "629c7d40-6c1f-42ea-b5a2-1efa5f940537",
   "metadata": {},
   "outputs": [],
   "source": []
  }
 ],
 "metadata": {
  "kernelspec": {
   "display_name": "Python 3 (ipykernel)",
   "language": "python",
   "name": "python3"
  },
  "language_info": {
   "codemirror_mode": {
    "name": "ipython",
    "version": 3
   },
   "file_extension": ".py",
   "mimetype": "text/x-python",
   "name": "python",
   "nbconvert_exporter": "python",
   "pygments_lexer": "ipython3",
   "version": "3.9.12"
  }
 },
 "nbformat": 4,
 "nbformat_minor": 5
}
