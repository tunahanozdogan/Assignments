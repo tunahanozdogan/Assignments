{
 "cells": [
  {
   "cell_type": "code",
   "execution_count": 1,
   "id": "ab340229",
   "metadata": {},
   "outputs": [],
   "source": [
    "import pandas as pd\n",
    "from scipy import stats\n",
    "import numpy as np"
   ]
  },
  {
   "cell_type": "raw",
   "id": "5d81ea86",
   "metadata": {},
   "source": [
    "EXERCISE 1. What is the normal body temperature for healthy humans? A random sample of 130 healthy human body temperatures provided by Allen Shoemaker yielded 98.25 degrees and standard deviation 0.73 degrees. \n",
    "\n",
    "Give a 99% confidence interval for the average body temperature of healthy people."
   ]
  },
  {
   "cell_type": "code",
   "execution_count": 2,
   "id": "c1bd2a20",
   "metadata": {},
   "outputs": [
    {
     "ename": "SyntaxError",
     "evalue": "invalid syntax (468375415.py, line 3)",
     "output_type": "error",
     "traceback": [
      "\u001b[1;36m  File \u001b[1;32m\"C:\\Users\\insan\\AppData\\Local\\Temp\\ipykernel_12928\\468375415.py\"\u001b[1;36m, line \u001b[1;32m3\u001b[0m\n\u001b[1;33m    sample mean = 98.25\u001b[0m\n\u001b[1;37m           ^\u001b[0m\n\u001b[1;31mSyntaxError\u001b[0m\u001b[1;31m:\u001b[0m invalid syntax\n"
     ]
    }
   ],
   "source": [
    " n = 130\n",
    "std = 0.73\n",
    "sample mean = 98.25\n"
   ]
  },
  {
   "cell_type": "code",
   "execution_count": null,
   "id": "e5fb91cc",
   "metadata": {},
   "outputs": [],
   "source": [
    "sem = 0.73 / np.sqrt(n)\n",
    "sem"
   ]
  },
  {
   "cell_type": "code",
   "execution_count": null,
   "id": "2c396d4e",
   "metadata": {
    "scrolled": true
   },
   "outputs": [],
   "source": [
    "# alpha = confidence interval = 0.99\n",
    "# dof = degree of freedom = n - 1 = 129\n",
    "# loc = sample mean = 98.25\n",
    "stats.t.interval(alpha=0.99, df=129, loc=98.25, scale=sem)"
   ]
  },
  {
   "cell_type": "raw",
   "id": "bdfc44bc",
   "metadata": {},
   "source": [
    "Sağlıklı insanlar için normal vücut sıcaklığının genellikle yaklaşık 98.6 Fahrenheit (37 Santigrat derece) olduğu kabul edilir. Bununla birlikte, vücut sıcaklığının kişiden kişiye biraz değişebileceğini ve yaş, cinsiyet, aktivite düzeyi ve günün saati gibi faktörlerden de etkilenebileceğini unutmamak önemlidir. \n",
    "Bu, sağlıklı insanların gerçek ortalama vücut sıcaklığının bu aralığa düştüğünden %99 emin olabileceğimiz anlamına gelir."
   ]
  },
  {
   "cell_type": "markdown",
   "id": "540be915-0518-4ef4-bd11-443183c7e6c4",
   "metadata": {},
   "source": [
    "EXERCISE 2. The administrators for a hospital wished to estimate the average number of days required for inpatient treatment of patients between the ages of 25 and 34. A random sample of 500 hospital patients between these ages produced a mean and standard deviation equal to 5.4 and 3.1 days, respectively.\n",
    "\n",
    "\n",
    "Construct a 95% confidence interval for the mean length of stay for the population of patients from which the sample was drawn."
   ]
  },
  {
   "cell_type": "code",
   "execution_count": null,
   "id": "af41375d",
   "metadata": {},
   "outputs": [],
   "source": [
    "#stats.t.interval(alpha, df, loc, scale)\n",
    "        # alpha = confidence interval = 0.95\n",
    "        # df = degree of freedom = n - 1 = 499\n",
    "        # loc = sample mean = 5.4\n",
    "        # scale = standart error of the mean(sem)\n",
    "            # sem = std(x) / np.sqrt(n)\n",
    "# std = 3.1, n = 500\n",
    "sem = 3.1 / np.sqrt(500)\n",
    "sem"
   ]
  },
  {
   "cell_type": "code",
   "execution_count": null,
   "id": "1e771362",
   "metadata": {},
   "outputs": [],
   "source": [
    "stats.t.interval(alpha=0.95, df=499, loc=5.4, scale=sem)"
   ]
  },
  {
   "cell_type": "code",
   "execution_count": null,
   "id": "cc4beb99",
   "metadata": {},
   "outputs": [],
   "source": []
  },
  {
   "cell_type": "markdown",
   "id": "ffac74cc-4f32-4dcd-bf28-ef0f9113d5de",
   "metadata": {},
   "source": [
    "EXERCISE 3. The hourly wages in a particular industry are normally distributed with mean $13.20 and standard deviation $2.50. A company in this industry employs 40 workers, paying them an average of $12.20 per hour. Can this company be accused of paying substandard wages? Use an α = .01 level test. (Wackerly, Ex.10.18)\n",
    "\n",
    "CHECK: statistic: -2.5298221281347035, pvalue= 0.005706018193000826"
   ]
  },
  {
   "cell_type": "code",
   "execution_count": null,
   "id": "22777359",
   "metadata": {},
   "outputs": [],
   "source": [
    "# H0: mu = 13.20\n",
    "# H1: mu < 12.20\n",
    "xbar = 12.20\n",
    "sigma = 2.50\n",
    "n = 40\n",
    "mu = 13.20\n",
    "alpha = 0.01"
   ]
  },
  {
   "cell_type": "code",
   "execution_count": null,
   "id": "fe500464",
   "metadata": {},
   "outputs": [],
   "source": [
    "z = (xbar - mu) / (sigma / np.sqrt(n))\n",
    "z"
   ]
  },
  {
   "cell_type": "code",
   "execution_count": null,
   "id": "4131b829",
   "metadata": {},
   "outputs": [],
   "source": [
    "p_value = stats.norm.cdf(z)\n",
    "p"
   ]
  },
  {
   "cell_type": "code",
   "execution_count": null,
   "id": "094bbc23",
   "metadata": {},
   "outputs": [],
   "source": [
    "if p_value < alpha:\n",
    "    print(\"Reject the null hypothesis\")\n",
    "else:\n",
    "    print(\"Fail to reject the null hypothesis\")"
   ]
  },
  {
   "cell_type": "markdown",
   "id": "fdeef956-096f-47f7-9dd3-b5398fe1d940",
   "metadata": {},
   "source": [
    "EXERCISE 4.Shear strength measurements derived from unconfined compression tests for two types of soils gave the results shown in the following document (measurements in tons per square foot). Do the soils appear to differ with respect to average shear strength, at the 1% significance level?Results for two type of soils\n",
    "\n",
    "CHECK: statistic: 5.1681473319343345, pvalue= 2.593228732352821e-06"
   ]
  },
  {
   "cell_type": "code",
   "execution_count": null,
   "id": "dc962626",
   "metadata": {},
   "outputs": [],
   "source": [
    "soil = pd.read_csv(\"soil.csv\")\n",
    "soil.head()"
   ]
  },
  {
   "cell_type": "code",
   "execution_count": null,
   "id": "0887d8bf",
   "metadata": {},
   "outputs": [],
   "source": [
    "#Independent Samples T Test\n",
    "alpha = 0.01\n",
    "#H0: mSoil1 = mSoil2\n",
    "#H1: mSoil1 != mSoil2"
   ]
  },
  {
   "cell_type": "code",
   "execution_count": null,
   "id": "51b80437",
   "metadata": {},
   "outputs": [],
   "source": [
    "stats.levene(soil[\"Soil1\"].dropna(), soil[\"Soil2\"])"
   ]
  },
  {
   "cell_type": "code",
   "execution_count": null,
   "id": "d006e5f5",
   "metadata": {},
   "outputs": [],
   "source": [
    "stats.ttest_ind(soil[\"Soil1\"].dropna(), soil[\"Soil2\"], equal_var=True, alternative=\"two-sided\")"
   ]
  },
  {
   "cell_type": "code",
   "execution_count": null,
   "id": "c534e71e",
   "metadata": {},
   "outputs": [],
   "source": [
    "if p < alpha:\n",
    "    print(\"Reject the null hypothesis\")\n",
    "else:\n",
    "    print(\"Fail to reject the null hypothesis\")"
   ]
  },
  {
   "cell_type": "markdown",
   "id": "956cd4a5-b099-46a9-8435-f55bb06e12e0",
   "metadata": {},
   "source": [
    "EXERCISE 5. The following dataset is based on data provided by the World Bank (https://datacatalog.worldbank.org/dataset/education-statistics). World Bank Edstats.  2015 PISA Test Dataset\n",
    "\n",
    "Get descriptive statistics (the central tendency, dispersion and shape of a dataset’s distribution) for each continent group (AS, EU, AF, NA, SA, OC).\n",
    "Determine whether there is any difference (on the average) for the math scores among European (EU) and Asian (AS) countries (assume normality and equal variances). Draw side-by-side box plots.\n",
    "CHECK: statistic=0.870055317967983, pvalue=0.38826888111307345"
   ]
  },
  {
   "cell_type": "code",
   "execution_count": null,
   "id": "8bde399c",
   "metadata": {},
   "outputs": [],
   "source": [
    "pisa = pd.read_csv(\"pisa.csv\")\n",
    "pisa.head()"
   ]
  },
  {
   "cell_type": "code",
   "execution_count": null,
   "id": "9af8aa28",
   "metadata": {},
   "outputs": [],
   "source": [
    "pisa.shape\n"
   ]
  },
  {
   "cell_type": "code",
   "execution_count": null,
   "id": "87dd04d1",
   "metadata": {},
   "outputs": [],
   "source": [
    "pisa.groupby(\"Continent_Code\").describe()"
   ]
  },
  {
   "cell_type": "code",
   "execution_count": null,
   "id": "980491f6",
   "metadata": {},
   "outputs": [],
   "source": [
    "eu_math = pisa[pisa[\"Continent_Code\"] == \"EU\"][\"Math\"]"
   ]
  },
  {
   "cell_type": "code",
   "execution_count": null,
   "id": "66ffb93c",
   "metadata": {},
   "outputs": [],
   "source": [
    "as_math = pisa[pisa[\"Continent_Code\"] == \"AS\"][\"Math\"]"
   ]
  },
  {
   "cell_type": "code",
   "execution_count": null,
   "id": "f5bb1822",
   "metadata": {},
   "outputs": [],
   "source": [
    "#Independent Samples T Test\n",
    "alpha = 0.05\n",
    "#H0: mEU = mAS\n",
    "#H1: mEU != mAS"
   ]
  },
  {
   "cell_type": "code",
   "execution_count": null,
   "id": "bbea5c66",
   "metadata": {},
   "outputs": [],
   "source": [
    "OneSamp = stats.ttest_ind(eu_math, as_math, equal_var=True, alternative=\"two-sided\")\n",
    "OneSamp"
   ]
  },
  {
   "cell_type": "code",
   "execution_count": null,
   "id": "2959dbf0",
   "metadata": {},
   "outputs": [],
   "source": [
    "if OneSamp.pvalue < alpha:\n",
    "    print(\"Reject the null hypothesis\")\n",
    "else:\n",
    "    print(\"Fail to reject the null hypothesis\")"
   ]
  },
  {
   "cell_type": "code",
   "execution_count": null,
   "id": "0e7e4e99",
   "metadata": {},
   "outputs": [],
   "source": [
    "import seaborn as sns\n",
    "import matplotlib as plt"
   ]
  },
  {
   "cell_type": "code",
   "execution_count": null,
   "id": "bed2a0b0",
   "metadata": {},
   "outputs": [],
   "source": [
    "sns.boxplot(data=[eu_math, as_math], dodge=False);"
   ]
  }
 ],
 "metadata": {
  "kernelspec": {
   "display_name": "Python 3 (ipykernel)",
   "language": "python",
   "name": "python3"
  },
  "language_info": {
   "codemirror_mode": {
    "name": "ipython",
    "version": 3
   },
   "file_extension": ".py",
   "mimetype": "text/x-python",
   "name": "python",
   "nbconvert_exporter": "python",
   "pygments_lexer": "ipython3",
   "version": "3.9.13"
  }
 },
 "nbformat": 4,
 "nbformat_minor": 5
}
